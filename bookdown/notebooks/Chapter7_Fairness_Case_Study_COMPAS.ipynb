{
  "nbformat": 4,
  "nbformat_minor": 0,
  "metadata": {
    "colab": {
      "provenance": [],
      "toc_visible": true
    },
    "kernelspec": {
      "name": "python3",
      "display_name": "Python 3"
    },
    "language_info": {
      "name": "python"
    }
  },
  "cells": [
    {
      "cell_type": "markdown",
      "source": [
        "# Causal Model Fairness: A Case Study\n",
        "\n",
        "In this notebook we'll use a dataset containing information of an infamously biased model: the COMPAS algorithm, which predicted recidivism risk for use in criminal sentencing. \n",
        "\n",
        "We will use the data containing COMPAS scores for violent recidivism, which ProPublica used to show that the algorithm was biased in different ways based on the defendant's race. Their work showed that COMPAS incorrectly gave high risk scores for black defendants at a much higher rate than white defendants.\n",
        "\n",
        "Links and Further Reading:\n",
        "* [The repo containing the data and original analysis code](https://github.com/propublica/compas-analysis/)\n",
        "* [The story containing details of the findings](https://www.propublica.org/article/machine-bias-risk-assessments-in-criminal-sentencing)\n",
        "* [A resource from ProPublica detailing their analytical approach](https://www.propublica.org/article/how-we-analyzed-the-compas-recidivism-algorithm)"
      ],
      "metadata": {
        "id": "9Ch-nvht6D5f"
      }
    },
    {
      "cell_type": "code",
      "source": [
        "# %%capture\n",
        "!pip install --upgrade numpy==1.23.5 dowhy seaborn statsmodels"
      ],
      "metadata": {
        "id": "dkDULcUamGcM",
        "colab": {
          "base_uri": "https://localhost:8080/",
          "height": 1000
        },
        "outputId": "cef8d1bf-dc3c-445d-8a0c-ed02d487b11e"
      },
      "execution_count": null,
      "outputs": [
        {
          "output_type": "stream",
          "name": "stdout",
          "text": [
            "Looking in indexes: https://pypi.org/simple, https://us-python.pkg.dev/colab-wheels/public/simple/\n",
            "Collecting numpy==1.23.5\n",
            "  Downloading numpy-1.23.5-cp39-cp39-manylinux_2_17_x86_64.manylinux2014_x86_64.whl (17.1 MB)\n",
            "\u001b[2K     \u001b[90m━━━━━━━━━━━━━━━━━━━━━━━━━━━━━━━━━━━━━━━━\u001b[0m \u001b[32m17.1/17.1 MB\u001b[0m \u001b[31m28.0 MB/s\u001b[0m eta \u001b[36m0:00:00\u001b[0m\n",
            "\u001b[?25hCollecting dowhy\n",
            "  Downloading dowhy-0.9.1-py3-none-any.whl (301 kB)\n",
            "\u001b[2K     \u001b[90m━━━━━━━━━━━━━━━━━━━━━━━━━━━━━━━━━━━━━━\u001b[0m \u001b[32m301.9/301.9 kB\u001b[0m \u001b[31m11.7 MB/s\u001b[0m eta \u001b[36m0:00:00\u001b[0m\n",
            "\u001b[?25hRequirement already satisfied: seaborn in /usr/local/lib/python3.9/dist-packages (0.12.2)\n",
            "Requirement already satisfied: statsmodels in /usr/local/lib/python3.9/dist-packages (0.13.5)\n",
            "Collecting scikit-learn<1.2.0\n",
            "  Downloading scikit_learn-1.1.3-cp39-cp39-manylinux_2_17_x86_64.manylinux2014_x86_64.whl (30.8 MB)\n",
            "\u001b[2K     \u001b[90m━━━━━━━━━━━━━━━━━━━━━━━━━━━━━━━━━━━━━━━━\u001b[0m \u001b[32m30.8/30.8 MB\u001b[0m \u001b[31m11.0 MB/s\u001b[0m eta \u001b[36m0:00:00\u001b[0m\n",
            "\u001b[?25hRequirement already satisfied: joblib<2.0.0,>=1.1.0 in /usr/local/lib/python3.9/dist-packages (from dowhy) (1.2.0)\n",
            "Collecting networkx<3.0.0,>=2.8.5\n",
            "  Downloading networkx-2.8.8-py3-none-any.whl (2.0 MB)\n",
            "\u001b[2K     \u001b[90m━━━━━━━━━━━━━━━━━━━━━━━━━━━━━━━━━━━━━━━━\u001b[0m \u001b[32m2.0/2.0 MB\u001b[0m \u001b[31m6.4 MB/s\u001b[0m eta \u001b[36m0:00:00\u001b[0m\n",
            "\u001b[?25hRequirement already satisfied: sympy<2.0.0,>=1.10.1 in /usr/local/lib/python3.9/dist-packages (from dowhy) (1.11.1)\n",
            "Collecting econml\n",
            "  Downloading econml-0.14.0-cp39-cp39-manylinux_2_17_x86_64.manylinux2014_x86_64.whl (3.5 MB)\n",
            "\u001b[2K     \u001b[90m━━━━━━━━━━━━━━━━━━━━━━━━━━━━━━━━━━━━━━━━\u001b[0m \u001b[32m3.5/3.5 MB\u001b[0m \u001b[31m22.1 MB/s\u001b[0m eta \u001b[36m0:00:00\u001b[0m\n",
            "\u001b[?25hRequirement already satisfied: cython<0.30.0,>=0.29.32 in /usr/local/lib/python3.9/dist-packages (from dowhy) (0.29.34)\n",
            "Requirement already satisfied: scipy<2.0.0,>=1.8.1 in /usr/local/lib/python3.9/dist-packages (from dowhy) (1.10.1)\n",
            "Collecting sphinx_design<0.4.0,>=0.3.0\n",
            "  Downloading sphinx_design-0.3.0-py3-none-any.whl (2.2 MB)\n",
            "\u001b[2K     \u001b[90m━━━━━━━━━━━━━━━━━━━━━━━━━━━━━━━━━━━━━━━━\u001b[0m \u001b[32m2.2/2.2 MB\u001b[0m \u001b[31m18.9 MB/s\u001b[0m eta \u001b[36m0:00:00\u001b[0m\n",
            "\u001b[?25hRequirement already satisfied: pandas<2.0.0,>=1.4.3 in /usr/local/lib/python3.9/dist-packages (from dowhy) (1.5.3)\n",
            "Requirement already satisfied: tqdm<5.0.0,>=4.64.0 in /usr/local/lib/python3.9/dist-packages (from dowhy) (4.65.0)\n",
            "Collecting causal-learn<0.2.0.0,>=0.1.3.0\n",
            "  Downloading causal_learn-0.1.3.3-py3-none-any.whl (172 kB)\n",
            "\u001b[2K     \u001b[90m━━━━━━━━━━━━━━━━━━━━━━━━━━━━━━━━━━━━━━━\u001b[0m \u001b[32m172.9/172.9 kB\u001b[0m \u001b[31m5.2 MB/s\u001b[0m eta \u001b[36m0:00:00\u001b[0m\n",
            "\u001b[?25hRequirement already satisfied: matplotlib!=3.6.1,>=3.1 in /usr/local/lib/python3.9/dist-packages (from seaborn) (3.7.1)\n",
            "Requirement already satisfied: patsy>=0.5.2 in /usr/local/lib/python3.9/dist-packages (from statsmodels) (0.5.3)\n",
            "Requirement already satisfied: packaging>=21.3 in /usr/local/lib/python3.9/dist-packages (from statsmodels) (23.0)\n",
            "Requirement already satisfied: pydot in /usr/local/lib/python3.9/dist-packages (from causal-learn<0.2.0.0,>=0.1.3.0->dowhy) (1.4.2)\n",
            "Requirement already satisfied: graphviz in /usr/local/lib/python3.9/dist-packages (from causal-learn<0.2.0.0,>=0.1.3.0->dowhy) (0.20.1)\n",
            "Requirement already satisfied: python-dateutil>=2.7 in /usr/local/lib/python3.9/dist-packages (from matplotlib!=3.6.1,>=3.1->seaborn) (2.8.2)\n",
            "Requirement already satisfied: contourpy>=1.0.1 in /usr/local/lib/python3.9/dist-packages (from matplotlib!=3.6.1,>=3.1->seaborn) (1.0.7)\n",
            "Requirement already satisfied: kiwisolver>=1.0.1 in /usr/local/lib/python3.9/dist-packages (from matplotlib!=3.6.1,>=3.1->seaborn) (1.4.4)\n",
            "Requirement already satisfied: cycler>=0.10 in /usr/local/lib/python3.9/dist-packages (from matplotlib!=3.6.1,>=3.1->seaborn) (0.11.0)\n",
            "Requirement already satisfied: pillow>=6.2.0 in /usr/local/lib/python3.9/dist-packages (from matplotlib!=3.6.1,>=3.1->seaborn) (8.4.0)\n",
            "Requirement already satisfied: fonttools>=4.22.0 in /usr/local/lib/python3.9/dist-packages (from matplotlib!=3.6.1,>=3.1->seaborn) (4.39.3)\n",
            "Requirement already satisfied: pyparsing>=2.3.1 in /usr/local/lib/python3.9/dist-packages (from matplotlib!=3.6.1,>=3.1->seaborn) (3.0.9)\n",
            "Requirement already satisfied: importlib-resources>=3.2.0 in /usr/local/lib/python3.9/dist-packages (from matplotlib!=3.6.1,>=3.1->seaborn) (5.12.0)\n",
            "Requirement already satisfied: pytz>=2020.1 in /usr/local/lib/python3.9/dist-packages (from pandas<2.0.0,>=1.4.3->dowhy) (2022.7.1)\n",
            "Requirement already satisfied: six in /usr/local/lib/python3.9/dist-packages (from patsy>=0.5.2->statsmodels) (1.16.0)\n",
            "Requirement already satisfied: threadpoolctl>=2.0.0 in /usr/local/lib/python3.9/dist-packages (from scikit-learn<1.2.0->dowhy) (3.1.0)\n",
            "Collecting sphinx<6,>=4\n",
            "  Downloading sphinx-5.3.0-py3-none-any.whl (3.2 MB)\n",
            "\u001b[2K     \u001b[90m━━━━━━━━━━━━━━━━━━━━━━━━━━━━━━━━━━━━━━━━\u001b[0m \u001b[32m3.2/3.2 MB\u001b[0m \u001b[31m11.6 MB/s\u001b[0m eta \u001b[36m0:00:00\u001b[0m\n",
            "\u001b[?25hRequirement already satisfied: mpmath>=0.19 in /usr/local/lib/python3.9/dist-packages (from sympy<2.0.0,>=1.10.1->dowhy) (1.3.0)\n",
            "Collecting sparse\n",
            "  Downloading sparse-0.14.0-py2.py3-none-any.whl (80 kB)\n",
            "\u001b[2K     \u001b[90m━━━━━━━━━━━━━━━━━━━━━━━━━━━━━━━━━━━━━━━━\u001b[0m \u001b[32m81.0/81.0 kB\u001b[0m \u001b[31m3.7 MB/s\u001b[0m eta \u001b[36m0:00:00\u001b[0m\n",
            "\u001b[?25hCollecting shap<0.41.0,>=0.38.1\n",
            "  Downloading shap-0.40.0-cp39-cp39-manylinux2010_x86_64.whl (567 kB)\n",
            "\u001b[2K     \u001b[90m━━━━━━━━━━━━━━━━━━━━━━━━━━━━━━━━━━━━━━\u001b[0m \u001b[32m567.6/567.6 kB\u001b[0m \u001b[31m24.2 MB/s\u001b[0m eta \u001b[36m0:00:00\u001b[0m\n",
            "\u001b[?25hRequirement already satisfied: lightgbm in /usr/local/lib/python3.9/dist-packages (from econml->dowhy) (3.3.5)\n",
            "Requirement already satisfied: zipp>=3.1.0 in /usr/local/lib/python3.9/dist-packages (from importlib-resources>=3.2.0->matplotlib!=3.6.1,>=3.1->seaborn) (3.15.0)\n",
            "Requirement already satisfied: cloudpickle in /usr/local/lib/python3.9/dist-packages (from shap<0.41.0,>=0.38.1->econml->dowhy) (2.2.1)\n",
            "Collecting slicer==0.0.7\n",
            "  Downloading slicer-0.0.7-py3-none-any.whl (14 kB)\n",
            "Requirement already satisfied: numba in /usr/local/lib/python3.9/dist-packages (from shap<0.41.0,>=0.38.1->econml->dowhy) (0.56.4)\n",
            "Requirement already satisfied: sphinxcontrib-devhelp in /usr/local/lib/python3.9/dist-packages (from sphinx<6,>=4->sphinx_design<0.4.0,>=0.3.0->dowhy) (1.0.2)\n",
            "Requirement already satisfied: Pygments>=2.12 in /usr/local/lib/python3.9/dist-packages (from sphinx<6,>=4->sphinx_design<0.4.0,>=0.3.0->dowhy) (2.14.0)\n",
            "Requirement already satisfied: imagesize>=1.3 in /usr/local/lib/python3.9/dist-packages (from sphinx<6,>=4->sphinx_design<0.4.0,>=0.3.0->dowhy) (1.4.1)\n",
            "Requirement already satisfied: importlib-metadata>=4.8 in /usr/local/lib/python3.9/dist-packages (from sphinx<6,>=4->sphinx_design<0.4.0,>=0.3.0->dowhy) (6.3.0)\n",
            "Requirement already satisfied: sphinxcontrib-applehelp in /usr/local/lib/python3.9/dist-packages (from sphinx<6,>=4->sphinx_design<0.4.0,>=0.3.0->dowhy) (1.0.4)\n",
            "Requirement already satisfied: sphinxcontrib-qthelp in /usr/local/lib/python3.9/dist-packages (from sphinx<6,>=4->sphinx_design<0.4.0,>=0.3.0->dowhy) (1.0.3)\n",
            "Requirement already satisfied: alabaster<0.8,>=0.7 in /usr/local/lib/python3.9/dist-packages (from sphinx<6,>=4->sphinx_design<0.4.0,>=0.3.0->dowhy) (0.7.13)\n",
            "Requirement already satisfied: snowballstemmer>=2.0 in /usr/local/lib/python3.9/dist-packages (from sphinx<6,>=4->sphinx_design<0.4.0,>=0.3.0->dowhy) (2.2.0)\n",
            "Requirement already satisfied: sphinxcontrib-jsmath in /usr/local/lib/python3.9/dist-packages (from sphinx<6,>=4->sphinx_design<0.4.0,>=0.3.0->dowhy) (1.0.1)\n",
            "Requirement already satisfied: sphinxcontrib-serializinghtml>=1.1.5 in /usr/local/lib/python3.9/dist-packages (from sphinx<6,>=4->sphinx_design<0.4.0,>=0.3.0->dowhy) (1.1.5)\n",
            "Requirement already satisfied: requests>=2.5.0 in /usr/local/lib/python3.9/dist-packages (from sphinx<6,>=4->sphinx_design<0.4.0,>=0.3.0->dowhy) (2.27.1)\n",
            "Requirement already satisfied: Jinja2>=3.0 in /usr/local/lib/python3.9/dist-packages (from sphinx<6,>=4->sphinx_design<0.4.0,>=0.3.0->dowhy) (3.1.2)\n",
            "Requirement already satisfied: babel>=2.9 in /usr/local/lib/python3.9/dist-packages (from sphinx<6,>=4->sphinx_design<0.4.0,>=0.3.0->dowhy) (2.12.1)\n",
            "Requirement already satisfied: docutils<0.20,>=0.14 in /usr/local/lib/python3.9/dist-packages (from sphinx<6,>=4->sphinx_design<0.4.0,>=0.3.0->dowhy) (0.16)\n",
            "Requirement already satisfied: sphinxcontrib-htmlhelp>=2.0.0 in /usr/local/lib/python3.9/dist-packages (from sphinx<6,>=4->sphinx_design<0.4.0,>=0.3.0->dowhy) (2.0.1)\n",
            "Requirement already satisfied: wheel in /usr/local/lib/python3.9/dist-packages (from lightgbm->econml->dowhy) (0.40.0)\n",
            "Requirement already satisfied: MarkupSafe>=2.0 in /usr/local/lib/python3.9/dist-packages (from Jinja2>=3.0->sphinx<6,>=4->sphinx_design<0.4.0,>=0.3.0->dowhy) (2.1.2)\n",
            "Requirement already satisfied: llvmlite<0.40,>=0.39.0dev0 in /usr/local/lib/python3.9/dist-packages (from numba->shap<0.41.0,>=0.38.1->econml->dowhy) (0.39.1)\n",
            "Requirement already satisfied: setuptools in /usr/local/lib/python3.9/dist-packages (from numba->shap<0.41.0,>=0.38.1->econml->dowhy) (67.6.1)\n",
            "Requirement already satisfied: idna<4,>=2.5 in /usr/local/lib/python3.9/dist-packages (from requests>=2.5.0->sphinx<6,>=4->sphinx_design<0.4.0,>=0.3.0->dowhy) (3.4)\n",
            "Requirement already satisfied: charset-normalizer~=2.0.0 in /usr/local/lib/python3.9/dist-packages (from requests>=2.5.0->sphinx<6,>=4->sphinx_design<0.4.0,>=0.3.0->dowhy) (2.0.12)\n",
            "Requirement already satisfied: urllib3<1.27,>=1.21.1 in /usr/local/lib/python3.9/dist-packages (from requests>=2.5.0->sphinx<6,>=4->sphinx_design<0.4.0,>=0.3.0->dowhy) (1.26.15)\n",
            "Requirement already satisfied: certifi>=2017.4.17 in /usr/local/lib/python3.9/dist-packages (from requests>=2.5.0->sphinx<6,>=4->sphinx_design<0.4.0,>=0.3.0->dowhy) (2022.12.7)\n",
            "Installing collected packages: slicer, numpy, networkx, sphinx, sphinx_design, sparse, scikit-learn, shap, causal-learn, econml, dowhy\n",
            "  Attempting uninstall: numpy\n",
            "    Found existing installation: numpy 1.22.4\n",
            "    Uninstalling numpy-1.22.4:\n",
            "      Successfully uninstalled numpy-1.22.4\n",
            "  Attempting uninstall: networkx\n",
            "    Found existing installation: networkx 3.1\n",
            "    Uninstalling networkx-3.1:\n",
            "      Successfully uninstalled networkx-3.1\n",
            "  Attempting uninstall: sphinx\n",
            "    Found existing installation: Sphinx 3.5.4\n",
            "    Uninstalling Sphinx-3.5.4:\n",
            "      Successfully uninstalled Sphinx-3.5.4\n",
            "  Attempting uninstall: scikit-learn\n",
            "    Found existing installation: scikit-learn 1.2.2\n",
            "    Uninstalling scikit-learn-1.2.2:\n",
            "      Successfully uninstalled scikit-learn-1.2.2\n",
            "Successfully installed causal-learn-0.1.3.3 dowhy-0.9.1 econml-0.14.0 networkx-2.8.8 numpy-1.23.5 scikit-learn-1.1.3 shap-0.40.0 slicer-0.0.7 sparse-0.14.0 sphinx-5.3.0 sphinx_design-0.3.0\n"
          ]
        },
        {
          "output_type": "display_data",
          "data": {
            "application/vnd.colab-display-data+json": {
              "pip_warning": {
                "packages": [
                  "numpy"
                ]
              }
            }
          },
          "metadata": {}
        }
      ]
    },
    {
      "cell_type": "code",
      "execution_count": null,
      "metadata": {
        "id": "msSJMuhiIFQb"
      },
      "outputs": [],
      "source": [
        "import pandas as pd\n",
        "import seaborn as sns\n",
        "import matplotlib.pyplot as plt\n",
        "import statsmodels.formula.api as smf\n",
        "import statsmodels.api\n",
        "from dowhy import CausalModel\n",
        "from math import exp\n",
        "# plt.style.use('seaborn-whitegrid')\n",
        "sns.set_style(\"whitegrid\")"
      ]
    },
    {
      "cell_type": "markdown",
      "source": [
        "## Load Data"
      ],
      "metadata": {
        "id": "gg01bF3rtZFE"
      }
    },
    {
      "cell_type": "code",
      "source": [
        "df = pd.read_csv('https://raw.githubusercontent.com/propublica/compas-analysis/master/compas-scores-two-years-violent.csv')\n",
        "df.shape"
      ],
      "metadata": {
        "id": "S3gvVp4pIHk7",
        "colab": {
          "base_uri": "https://localhost:8080/",
          "height": 37
        },
        "outputId": "f9e3303d-fd74-4848-95bd-8f75077ba8bd"
      },
      "execution_count": null,
      "outputs": [
        {
          "output_type": "execute_result",
          "data": {
            "text/plain": [
              "(4743, 54)"
            ],
            "text/latex": "$\\displaystyle \\left( 4743, \\  54\\right)$"
          },
          "metadata": {},
          "execution_count": 2
        }
      ]
    },
    {
      "cell_type": "code",
      "source": [
        "df.columns"
      ],
      "metadata": {
        "colab": {
          "base_uri": "https://localhost:8080/"
        },
        "id": "WVtXI6L8IuP8",
        "outputId": "51cf16ea-da49-4194-fb5f-5aa9f4f3c233"
      },
      "execution_count": null,
      "outputs": [
        {
          "output_type": "execute_result",
          "data": {
            "text/plain": [
              "Index(['id', 'name', 'first', 'last', 'compas_screening_date', 'sex', 'dob',\n",
              "       'age', 'age_cat', 'race', 'juv_fel_count', 'decile_score',\n",
              "       'juv_misd_count', 'juv_other_count', 'priors_count',\n",
              "       'days_b_screening_arrest', 'c_jail_in', 'c_jail_out', 'c_case_number',\n",
              "       'c_offense_date', 'c_arrest_date', 'c_days_from_compas',\n",
              "       'c_charge_degree', 'c_charge_desc', 'is_recid', 'r_case_number',\n",
              "       'r_charge_degree', 'r_days_from_arrest', 'r_offense_date',\n",
              "       'r_charge_desc', 'r_jail_in', 'r_jail_out', 'violent_recid',\n",
              "       'is_violent_recid', 'vr_case_number', 'vr_charge_degree',\n",
              "       'vr_offense_date', 'vr_charge_desc', 'type_of_assessment',\n",
              "       'decile_score.1', 'score_text', 'screening_date',\n",
              "       'v_type_of_assessment', 'v_decile_score', 'v_score_text',\n",
              "       'v_screening_date', 'in_custody', 'out_custody', 'priors_count.1',\n",
              "       'start', 'end', 'event', 'two_year_recid', 'two_year_recid.1'],\n",
              "      dtype='object')"
            ]
          },
          "metadata": {},
          "execution_count": 3
        }
      ]
    },
    {
      "cell_type": "code",
      "source": [
        "df.head()"
      ],
      "metadata": {
        "colab": {
          "base_uri": "https://localhost:8080/",
          "height": 386
        },
        "id": "ykliERzzIu52",
        "outputId": "63825f2d-6990-430a-d6f7-b9a5830ea7b1"
      },
      "execution_count": null,
      "outputs": [
        {
          "output_type": "execute_result",
          "data": {
            "text/plain": [
              "   id                name   first         last compas_screening_date   sex  \\\n",
              "0   1    miguel hernandez  miguel    hernandez            2013-08-14  Male   \n",
              "1   3         kevon dixon   kevon        dixon            2013-01-27  Male   \n",
              "2   5         marcu brown   marcu        brown            2013-01-13  Male   \n",
              "3   6  bouthy pierrelouis  bouthy  pierrelouis            2013-03-26  Male   \n",
              "4   7        marsha miles  marsha        miles            2013-11-30  Male   \n",
              "\n",
              "          dob  age          age_cat              race  ...  v_score_text  \\\n",
              "0  1947-04-18   69  Greater than 45             Other  ...           Low   \n",
              "1  1982-01-22   34          25 - 45  African-American  ...           Low   \n",
              "2  1993-01-21   23     Less than 25  African-American  ...        Medium   \n",
              "3  1973-01-22   43          25 - 45             Other  ...           Low   \n",
              "4  1971-08-22   44          25 - 45             Other  ...           Low   \n",
              "\n",
              "   v_screening_date  in_custody  out_custody  priors_count.1  start   end  \\\n",
              "0        2013-08-14  2014-07-07   2014-07-14               0      0   327   \n",
              "1        2013-01-27  2013-01-26   2013-02-05               0      9   159   \n",
              "2        2013-01-13         NaN          NaN               1      0  1174   \n",
              "3        2013-03-26         NaN          NaN               2      0  1102   \n",
              "4        2013-11-30  2013-11-30   2013-12-01               0      1   853   \n",
              "\n",
              "  event two_year_recid two_year_recid.1  \n",
              "0     0              0                0  \n",
              "1     1              1                1  \n",
              "2     0              0                0  \n",
              "3     0              0                0  \n",
              "4     0              0                0  \n",
              "\n",
              "[5 rows x 54 columns]"
            ],
            "text/html": [
              "\n",
              "  <div id=\"df-ac559dba-823a-4e4e-9801-247b8f265cdf\">\n",
              "    <div class=\"colab-df-container\">\n",
              "      <div>\n",
              "<style scoped>\n",
              "    .dataframe tbody tr th:only-of-type {\n",
              "        vertical-align: middle;\n",
              "    }\n",
              "\n",
              "    .dataframe tbody tr th {\n",
              "        vertical-align: top;\n",
              "    }\n",
              "\n",
              "    .dataframe thead th {\n",
              "        text-align: right;\n",
              "    }\n",
              "</style>\n",
              "<table border=\"1\" class=\"dataframe\">\n",
              "  <thead>\n",
              "    <tr style=\"text-align: right;\">\n",
              "      <th></th>\n",
              "      <th>id</th>\n",
              "      <th>name</th>\n",
              "      <th>first</th>\n",
              "      <th>last</th>\n",
              "      <th>compas_screening_date</th>\n",
              "      <th>sex</th>\n",
              "      <th>dob</th>\n",
              "      <th>age</th>\n",
              "      <th>age_cat</th>\n",
              "      <th>race</th>\n",
              "      <th>...</th>\n",
              "      <th>v_score_text</th>\n",
              "      <th>v_screening_date</th>\n",
              "      <th>in_custody</th>\n",
              "      <th>out_custody</th>\n",
              "      <th>priors_count.1</th>\n",
              "      <th>start</th>\n",
              "      <th>end</th>\n",
              "      <th>event</th>\n",
              "      <th>two_year_recid</th>\n",
              "      <th>two_year_recid.1</th>\n",
              "    </tr>\n",
              "  </thead>\n",
              "  <tbody>\n",
              "    <tr>\n",
              "      <th>0</th>\n",
              "      <td>1</td>\n",
              "      <td>miguel hernandez</td>\n",
              "      <td>miguel</td>\n",
              "      <td>hernandez</td>\n",
              "      <td>2013-08-14</td>\n",
              "      <td>Male</td>\n",
              "      <td>1947-04-18</td>\n",
              "      <td>69</td>\n",
              "      <td>Greater than 45</td>\n",
              "      <td>Other</td>\n",
              "      <td>...</td>\n",
              "      <td>Low</td>\n",
              "      <td>2013-08-14</td>\n",
              "      <td>2014-07-07</td>\n",
              "      <td>2014-07-14</td>\n",
              "      <td>0</td>\n",
              "      <td>0</td>\n",
              "      <td>327</td>\n",
              "      <td>0</td>\n",
              "      <td>0</td>\n",
              "      <td>0</td>\n",
              "    </tr>\n",
              "    <tr>\n",
              "      <th>1</th>\n",
              "      <td>3</td>\n",
              "      <td>kevon dixon</td>\n",
              "      <td>kevon</td>\n",
              "      <td>dixon</td>\n",
              "      <td>2013-01-27</td>\n",
              "      <td>Male</td>\n",
              "      <td>1982-01-22</td>\n",
              "      <td>34</td>\n",
              "      <td>25 - 45</td>\n",
              "      <td>African-American</td>\n",
              "      <td>...</td>\n",
              "      <td>Low</td>\n",
              "      <td>2013-01-27</td>\n",
              "      <td>2013-01-26</td>\n",
              "      <td>2013-02-05</td>\n",
              "      <td>0</td>\n",
              "      <td>9</td>\n",
              "      <td>159</td>\n",
              "      <td>1</td>\n",
              "      <td>1</td>\n",
              "      <td>1</td>\n",
              "    </tr>\n",
              "    <tr>\n",
              "      <th>2</th>\n",
              "      <td>5</td>\n",
              "      <td>marcu brown</td>\n",
              "      <td>marcu</td>\n",
              "      <td>brown</td>\n",
              "      <td>2013-01-13</td>\n",
              "      <td>Male</td>\n",
              "      <td>1993-01-21</td>\n",
              "      <td>23</td>\n",
              "      <td>Less than 25</td>\n",
              "      <td>African-American</td>\n",
              "      <td>...</td>\n",
              "      <td>Medium</td>\n",
              "      <td>2013-01-13</td>\n",
              "      <td>NaN</td>\n",
              "      <td>NaN</td>\n",
              "      <td>1</td>\n",
              "      <td>0</td>\n",
              "      <td>1174</td>\n",
              "      <td>0</td>\n",
              "      <td>0</td>\n",
              "      <td>0</td>\n",
              "    </tr>\n",
              "    <tr>\n",
              "      <th>3</th>\n",
              "      <td>6</td>\n",
              "      <td>bouthy pierrelouis</td>\n",
              "      <td>bouthy</td>\n",
              "      <td>pierrelouis</td>\n",
              "      <td>2013-03-26</td>\n",
              "      <td>Male</td>\n",
              "      <td>1973-01-22</td>\n",
              "      <td>43</td>\n",
              "      <td>25 - 45</td>\n",
              "      <td>Other</td>\n",
              "      <td>...</td>\n",
              "      <td>Low</td>\n",
              "      <td>2013-03-26</td>\n",
              "      <td>NaN</td>\n",
              "      <td>NaN</td>\n",
              "      <td>2</td>\n",
              "      <td>0</td>\n",
              "      <td>1102</td>\n",
              "      <td>0</td>\n",
              "      <td>0</td>\n",
              "      <td>0</td>\n",
              "    </tr>\n",
              "    <tr>\n",
              "      <th>4</th>\n",
              "      <td>7</td>\n",
              "      <td>marsha miles</td>\n",
              "      <td>marsha</td>\n",
              "      <td>miles</td>\n",
              "      <td>2013-11-30</td>\n",
              "      <td>Male</td>\n",
              "      <td>1971-08-22</td>\n",
              "      <td>44</td>\n",
              "      <td>25 - 45</td>\n",
              "      <td>Other</td>\n",
              "      <td>...</td>\n",
              "      <td>Low</td>\n",
              "      <td>2013-11-30</td>\n",
              "      <td>2013-11-30</td>\n",
              "      <td>2013-12-01</td>\n",
              "      <td>0</td>\n",
              "      <td>1</td>\n",
              "      <td>853</td>\n",
              "      <td>0</td>\n",
              "      <td>0</td>\n",
              "      <td>0</td>\n",
              "    </tr>\n",
              "  </tbody>\n",
              "</table>\n",
              "<p>5 rows × 54 columns</p>\n",
              "</div>\n",
              "      <button class=\"colab-df-convert\" onclick=\"convertToInteractive('df-ac559dba-823a-4e4e-9801-247b8f265cdf')\"\n",
              "              title=\"Convert this dataframe to an interactive table.\"\n",
              "              style=\"display:none;\">\n",
              "        \n",
              "  <svg xmlns=\"http://www.w3.org/2000/svg\" height=\"24px\"viewBox=\"0 0 24 24\"\n",
              "       width=\"24px\">\n",
              "    <path d=\"M0 0h24v24H0V0z\" fill=\"none\"/>\n",
              "    <path d=\"M18.56 5.44l.94 2.06.94-2.06 2.06-.94-2.06-.94-.94-2.06-.94 2.06-2.06.94zm-11 1L8.5 8.5l.94-2.06 2.06-.94-2.06-.94L8.5 2.5l-.94 2.06-2.06.94zm10 10l.94 2.06.94-2.06 2.06-.94-2.06-.94-.94-2.06-.94 2.06-2.06.94z\"/><path d=\"M17.41 7.96l-1.37-1.37c-.4-.4-.92-.59-1.43-.59-.52 0-1.04.2-1.43.59L10.3 9.45l-7.72 7.72c-.78.78-.78 2.05 0 2.83L4 21.41c.39.39.9.59 1.41.59.51 0 1.02-.2 1.41-.59l7.78-7.78 2.81-2.81c.8-.78.8-2.07 0-2.86zM5.41 20L4 18.59l7.72-7.72 1.47 1.35L5.41 20z\"/>\n",
              "  </svg>\n",
              "      </button>\n",
              "      \n",
              "  <style>\n",
              "    .colab-df-container {\n",
              "      display:flex;\n",
              "      flex-wrap:wrap;\n",
              "      gap: 12px;\n",
              "    }\n",
              "\n",
              "    .colab-df-convert {\n",
              "      background-color: #E8F0FE;\n",
              "      border: none;\n",
              "      border-radius: 50%;\n",
              "      cursor: pointer;\n",
              "      display: none;\n",
              "      fill: #1967D2;\n",
              "      height: 32px;\n",
              "      padding: 0 0 0 0;\n",
              "      width: 32px;\n",
              "    }\n",
              "\n",
              "    .colab-df-convert:hover {\n",
              "      background-color: #E2EBFA;\n",
              "      box-shadow: 0px 1px 2px rgba(60, 64, 67, 0.3), 0px 1px 3px 1px rgba(60, 64, 67, 0.15);\n",
              "      fill: #174EA6;\n",
              "    }\n",
              "\n",
              "    [theme=dark] .colab-df-convert {\n",
              "      background-color: #3B4455;\n",
              "      fill: #D2E3FC;\n",
              "    }\n",
              "\n",
              "    [theme=dark] .colab-df-convert:hover {\n",
              "      background-color: #434B5C;\n",
              "      box-shadow: 0px 1px 3px 1px rgba(0, 0, 0, 0.15);\n",
              "      filter: drop-shadow(0px 1px 2px rgba(0, 0, 0, 0.3));\n",
              "      fill: #FFFFFF;\n",
              "    }\n",
              "  </style>\n",
              "\n",
              "      <script>\n",
              "        const buttonEl =\n",
              "          document.querySelector('#df-ac559dba-823a-4e4e-9801-247b8f265cdf button.colab-df-convert');\n",
              "        buttonEl.style.display =\n",
              "          google.colab.kernel.accessAllowed ? 'block' : 'none';\n",
              "\n",
              "        async function convertToInteractive(key) {\n",
              "          const element = document.querySelector('#df-ac559dba-823a-4e4e-9801-247b8f265cdf');\n",
              "          const dataTable =\n",
              "            await google.colab.kernel.invokeFunction('convertToInteractive',\n",
              "                                                     [key], {});\n",
              "          if (!dataTable) return;\n",
              "\n",
              "          const docLinkHtml = 'Like what you see? Visit the ' +\n",
              "            '<a target=\"_blank\" href=https://colab.research.google.com/notebooks/data_table.ipynb>data table notebook</a>'\n",
              "            + ' to learn more about interactive tables.';\n",
              "          element.innerHTML = '';\n",
              "          dataTable['output_type'] = 'display_data';\n",
              "          await google.colab.output.renderOutput(dataTable, element);\n",
              "          const docLink = document.createElement('div');\n",
              "          docLink.innerHTML = docLinkHtml;\n",
              "          element.appendChild(docLink);\n",
              "        }\n",
              "      </script>\n",
              "    </div>\n",
              "  </div>\n",
              "  "
            ]
          },
          "metadata": {},
          "execution_count": 4
        }
      ]
    },
    {
      "cell_type": "markdown",
      "source": [
        "## Data Preparation\n",
        "\n",
        "This follows much of the same process used in [ProPublica's COMPAS notebook](https://github.com/propublica/compas-analysis/blob/master/Compas%20Analysis.ipynb). In that notebook, the authors seek to understand the extent to which the predicted COMPAAS score differs baased on the race of the defendant. They create and use the following columns:\n",
        "* `c_charge_degree`: the degree of the charge (misdemeanor or felony)\n",
        "* `age_cat`: a categorical encoding of the defendant's age\n",
        "* `race`: the race of the defendant, which serves as the focus of this analysis\n",
        "* `sex`: the sex of the defendant, encoded as `Female` and `Male`\n",
        "* `priors_count`: the raw count of the defendant's prior convictions\n",
        "* `two_year_recid`: whether the defendant actually reoffended in the two years following sentencing (i.e. the target which the model is trying to predict)\n",
        "* `score_text`: the likelihood of reoffense predicted by the COMPAS model, bucketed into `Low`, `Medium`, and `High`\n",
        "  * The ProPublica analysts binarize this into low scores vs. medium and high, which they use as the dependent variable in a GLM\n",
        "\n",
        "In order to move forward with a similar analysis, we primarily need to filter out some problematic rows and create various features which are needed for the analysis. One of these new columns will be `correct`, a boolean value indicating whether the COMPAS model correctly identified an individual's risk of recidivism; defendants who are predicted as high risk but do not reoffend (i.e. _false positives_) are of particular interest in this context since they would receive stiffer sentences."
      ],
      "metadata": {
        "id": "vAr2cmH5jW_p"
      }
    },
    {
      "cell_type": "code",
      "source": [
        "fairness_df = df\\\n",
        "  .query(\"days_b_screening_arrest <= 30\")\\\n",
        "  .query(\"days_b_screening_arrest >= -30\")\\\n",
        "  .query(\"is_recid != -1\")\\\n",
        "  .query(\"c_charge_degree != 'O'\")\\\n",
        "  .query(\"score_text != 'N/A'\")\\\n",
        "  .assign(predicted_recid = lambda x: (x.score_text != 'Low').astype(int),\n",
        "          correct = lambda x: (x.predicted_recid == x.two_year_recid).astype(int),\n",
        "          juvenile_offenses = lambda x: x.juv_fel_count + x.juv_misd_count + x.juv_other_count)\\\n",
        "  [['age', 'c_charge_degree', 'race', 'age_cat', 'score_text', 'sex', \n",
        "    'priors_count', 'decile_score', 'juvenile_offenses',\n",
        "    'is_recid', 'two_year_recid', 'predicted_recid', 'correct']]\n",
        "\n",
        "fairness_df.shape"
      ],
      "metadata": {
        "colab": {
          "base_uri": "https://localhost:8080/",
          "height": 37
        },
        "id": "cUrcDePBmn7b",
        "outputId": "5cfcaa35-ad5f-4a4d-def8-373e490c0d32"
      },
      "execution_count": null,
      "outputs": [
        {
          "output_type": "execute_result",
          "data": {
            "text/plain": [
              "(4020, 13)"
            ],
            "text/latex": "$\\displaystyle \\left( 4020, \\  13\\right)$"
          },
          "metadata": {},
          "execution_count": 5
        }
      ]
    },
    {
      "cell_type": "markdown",
      "source": [
        "The way that the ProPublica analysts do this is essentially comparing the binarized score (Low vs. Med/High) with the `two_year_recid` value (whether the defendant reoffended within 2 years, as opposed to ever with `is_recid`)"
      ],
      "metadata": {
        "id": "hsoNtf4MpE9j"
      }
    },
    {
      "cell_type": "code",
      "source": [
        "fairness_df['is_recid'].value_counts(dropna=False)"
      ],
      "metadata": {
        "colab": {
          "base_uri": "https://localhost:8080/"
        },
        "id": "sPHjPPjTo2__",
        "outputId": "f347f26d-f2ca-4fe0-9b5d-336ceada813b"
      },
      "execution_count": null,
      "outputs": [
        {
          "output_type": "execute_result",
          "data": {
            "text/plain": [
              "0    3187\n",
              "1     833\n",
              "Name: is_recid, dtype: int64"
            ]
          },
          "metadata": {},
          "execution_count": 6
        }
      ]
    },
    {
      "cell_type": "code",
      "source": [
        "fairness_df['two_year_recid'].value_counts(dropna=False)"
      ],
      "metadata": {
        "colab": {
          "base_uri": "https://localhost:8080/"
        },
        "id": "yNis_9idpKLo",
        "outputId": "9a2c85e5-280f-4251-c6d6-1baa601fb4b5"
      },
      "execution_count": null,
      "outputs": [
        {
          "output_type": "execute_result",
          "data": {
            "text/plain": [
              "0    3368\n",
              "1     652\n",
              "Name: two_year_recid, dtype: int64"
            ]
          },
          "metadata": {},
          "execution_count": 7
        }
      ]
    },
    {
      "cell_type": "code",
      "source": [
        "fairness_df['predicted_recid'].value_counts(dropna=False)"
      ],
      "metadata": {
        "colab": {
          "base_uri": "https://localhost:8080/"
        },
        "id": "t_YQYyBXpe75",
        "outputId": "b6273c21-4553-40c8-e07a-5d8fbfd1309f"
      },
      "execution_count": null,
      "outputs": [
        {
          "output_type": "execute_result",
          "data": {
            "text/plain": [
              "0    2566\n",
              "1    1454\n",
              "Name: predicted_recid, dtype: int64"
            ]
          },
          "metadata": {},
          "execution_count": 8
        }
      ]
    },
    {
      "cell_type": "code",
      "source": [
        "fairness_df['race'].value_counts(dropna=False)"
      ],
      "metadata": {
        "colab": {
          "base_uri": "https://localhost:8080/"
        },
        "id": "mYPI67AOp3Sl",
        "outputId": "63aa46c4-4889-4405-8d1e-8586dad05827"
      },
      "execution_count": null,
      "outputs": [
        {
          "output_type": "execute_result",
          "data": {
            "text/plain": [
              "African-American    1918\n",
              "Caucasian           1459\n",
              "Hispanic             355\n",
              "Other                255\n",
              "Asian                 26\n",
              "Native American        7\n",
              "Name: race, dtype: int64"
            ]
          },
          "metadata": {},
          "execution_count": 9
        }
      ]
    },
    {
      "cell_type": "markdown",
      "source": [
        "As we get started, we'll filter to only Caucasian and African-American defendants"
      ],
      "metadata": {
        "id": "Kjcluc4nhEeK"
      }
    },
    {
      "cell_type": "code",
      "source": [
        "fairness_df = fairness_df[fairness_df['race'].isin(['Caucasian', 'African-American'])]"
      ],
      "metadata": {
        "id": "qFfj6LYqhDsx"
      },
      "execution_count": null,
      "outputs": []
    },
    {
      "cell_type": "markdown",
      "source": [
        "## Exploratory Data Analysis\n",
        "\n",
        "We can get started by viewing the distribution of our primary features: race, model output, model correctness, and actual recidivism."
      ],
      "metadata": {
        "id": "0ZxEpPi5t0Qp"
      }
    },
    {
      "cell_type": "code",
      "source": [
        "plt.figure(figsize=(8, 5))\n",
        "sns.barplot(data=fairness_df, x=\"race\", y=\"correct\", width=0.6)\n",
        "plt.title(\"COMPAS Model Accuracy by Race\", fontsize=16)\n",
        "plt.xlabel(None)\n",
        "plt.ylabel(\"% Correctly Classified\")\n",
        "plt.show()"
      ],
      "metadata": {
        "colab": {
          "base_uri": "https://localhost:8080/",
          "height": 470
        },
        "id": "vr5xIm2ct4Eb",
        "outputId": "e0ff9e40-9b17-4ed7-ea2f-6494a140b3e8"
      },
      "execution_count": null,
      "outputs": [
        {
          "output_type": "display_data",
          "data": {
            "text/plain": [
              "<Figure size 800x500 with 1 Axes>"
            ],
            "image/png": "[encoded data removed]"
          },
          "metadata": {}
        }
      ]
    },
    {
      "cell_type": "markdown",
      "source": [
        "Right off the bat, we can see that the model is, on average, less accurate for African American defendants. This would be concerning enough on its own, but we want to look deeper.\n",
        "\n",
        "How do model predictions differ by race?"
      ],
      "metadata": {
        "id": "Za4ECwOnyaet"
      }
    },
    {
      "cell_type": "code",
      "source": [
        "plt.figure(figsize=(8, 5))\n",
        "sns.barplot(data=fairness_df, x=\"race\", y=\"predicted_recid\", width=0.6)\n",
        "plt.title(\"COMPAS Model Predictions by Race\", fontsize=16)\n",
        "plt.xlabel(None)\n",
        "plt.ylabel(\"% Predicted as Medium- or High- Risk\")\n",
        "plt.show()"
      ],
      "metadata": {
        "colab": {
          "base_uri": "https://localhost:8080/",
          "height": 470
        },
        "id": "hL23ikd-vBqi",
        "outputId": "7fa2b98e-537d-4a55-e1af-63291785aef4"
      },
      "execution_count": null,
      "outputs": [
        {
          "output_type": "display_data",
          "data": {
            "text/plain": [
              "<Figure size 800x500 with 1 Axes>"
            ],
            "image/png": "[encoded data removed]"
          },
          "metadata": {}
        }
      ]
    },
    {
      "cell_type": "markdown",
      "source": [
        "We can see that the model produces higher predicted recidivism likelihood for African American defendants than Caucasians. Combining this with the lower accuracy for Black defendants paints a very concerning picture.\n",
        "\n",
        "How does actual recidivism differ by race?"
      ],
      "metadata": {
        "id": "lbrLwYFNwTsk"
      }
    },
    {
      "cell_type": "code",
      "source": [
        "fig, ax = plt.subplots(nrows=2, figsize=(8, 8))\n",
        "\n",
        "sns.barplot(data=fairness_df[fairness_df['predicted_recid'] == 0], \n",
        "            x=\"race\", y=\"two_year_recid\", width=0.6, ax=ax[0])\n",
        "ax[0].set_title(\"Actual Recidivism by Race: Low Predicted Risk\", fontsize=14)\n",
        "ax[0].set_xlabel(None)\n",
        "ax[0].set_ylabel(None)\n",
        "\n",
        "sns.barplot(data=fairness_df[fairness_df['predicted_recid'] == 1], \n",
        "            x=\"race\", y=\"two_year_recid\", width=0.6, ax=ax[1])\n",
        "ax[1].set_title(\"Actual Recidivism by Race: Medium or High Predicted Risk\", fontsize=14)\n",
        "ax[1].set_xlabel(None)\n",
        "ax[1].set_ylabel(None)\n",
        "\n",
        "plt.tight_layout(h_pad=1.5)\n",
        "plt.show()"
      ],
      "metadata": {
        "colab": {
          "base_uri": "https://localhost:8080/",
          "height": 807
        },
        "id": "-uy7MvQ4wXU6",
        "outputId": "bcedaafa-8274-4ac1-a494-ac6cb563985c"
      },
      "execution_count": null,
      "outputs": [
        {
          "output_type": "display_data",
          "data": {
            "text/plain": [
              "<Figure size 800x800 with 2 Axes>"
            ],
            "image/png": "[encoded data removed]"
          },
          "metadata": {}
        }
      ]
    },
    {
      "cell_type": "markdown",
      "source": [
        "This shows us that actual recidivism over a 2 year period is slightly higher for Black defendants, however the impact is considerably smaller than the difference in either the model score or model accuracy (and may be affected by other genuine covariates, such as the nature of the offense). \n",
        "\n",
        "This sets the stage for a very interesting analysis: we'll be able to see whether the defendant's race actually plays an explanatory role in the predicted score and model performance. Let's jump in!"
      ],
      "metadata": {
        "id": "hzx5TZAZx8Sv"
      }
    },
    {
      "cell_type": "markdown",
      "source": [
        "## Quantifying Fairness: Two Approaches\n",
        "There are two primary ways to approach the question of model fairness, and both involve examining differences between a protected group and a baseline group. The first explores model _performance_ using standard meeasures such as classification accuracy. In the context of the COMPAS model, the high-level variation in model accuracy is as follows:\n"
      ],
      "metadata": {
        "id": "l4eVwqXAd1AL"
      }
    },
    {
      "cell_type": "code",
      "source": [
        "fairness_df.groupby(\"race\").agg({'correct':'mean'})"
      ],
      "metadata": {
        "colab": {
          "base_uri": "https://localhost:8080/",
          "height": 143
        },
        "id": "FDLQqWYwhO4m",
        "outputId": "05ee0124-1e62-4e58-be91-d7b4caf86009"
      },
      "execution_count": null,
      "outputs": [
        {
          "output_type": "execute_result",
          "data": {
            "text/plain": [
              "                   correct\n",
              "race                      \n",
              "African-American  0.615746\n",
              "Caucasian         0.743660"
            ],
            "text/html": [
              "\n",
              "  <div id=\"df-f7d366d9-c114-412a-84ac-d766797fd1d0\">\n",
              "    <div class=\"colab-df-container\">\n",
              "      <div>\n",
              "<style scoped>\n",
              "    .dataframe tbody tr th:only-of-type {\n",
              "        vertical-align: middle;\n",
              "    }\n",
              "\n",
              "    .dataframe tbody tr th {\n",
              "        vertical-align: top;\n",
              "    }\n",
              "\n",
              "    .dataframe thead th {\n",
              "        text-align: right;\n",
              "    }\n",
              "</style>\n",
              "<table border=\"1\" class=\"dataframe\">\n",
              "  <thead>\n",
              "    <tr style=\"text-align: right;\">\n",
              "      <th></th>\n",
              "      <th>correct</th>\n",
              "    </tr>\n",
              "    <tr>\n",
              "      <th>race</th>\n",
              "      <th></th>\n",
              "    </tr>\n",
              "  </thead>\n",
              "  <tbody>\n",
              "    <tr>\n",
              "      <th>African-American</th>\n",
              "      <td>0.615746</td>\n",
              "    </tr>\n",
              "    <tr>\n",
              "      <th>Caucasian</th>\n",
              "      <td>0.743660</td>\n",
              "    </tr>\n",
              "  </tbody>\n",
              "</table>\n",
              "</div>\n",
              "      <button class=\"colab-df-convert\" onclick=\"convertToInteractive('df-f7d366d9-c114-412a-84ac-d766797fd1d0')\"\n",
              "              title=\"Convert this dataframe to an interactive table.\"\n",
              "              style=\"display:none;\">\n",
              "        \n",
              "  <svg xmlns=\"http://www.w3.org/2000/svg\" height=\"24px\"viewBox=\"0 0 24 24\"\n",
              "       width=\"24px\">\n",
              "    <path d=\"M0 0h24v24H0V0z\" fill=\"none\"/>\n",
              "    <path d=\"M18.56 5.44l.94 2.06.94-2.06 2.06-.94-2.06-.94-.94-2.06-.94 2.06-2.06.94zm-11 1L8.5 8.5l.94-2.06 2.06-.94-2.06-.94L8.5 2.5l-.94 2.06-2.06.94zm10 10l.94 2.06.94-2.06 2.06-.94-2.06-.94-.94-2.06-.94 2.06-2.06.94z\"/><path d=\"M17.41 7.96l-1.37-1.37c-.4-.4-.92-.59-1.43-.59-.52 0-1.04.2-1.43.59L10.3 9.45l-7.72 7.72c-.78.78-.78 2.05 0 2.83L4 21.41c.39.39.9.59 1.41.59.51 0 1.02-.2 1.41-.59l7.78-7.78 2.81-2.81c.8-.78.8-2.07 0-2.86zM5.41 20L4 18.59l7.72-7.72 1.47 1.35L5.41 20z\"/>\n",
              "  </svg>\n",
              "      </button>\n",
              "      \n",
              "  <style>\n",
              "    .colab-df-container {\n",
              "      display:flex;\n",
              "      flex-wrap:wrap;\n",
              "      gap: 12px;\n",
              "    }\n",
              "\n",
              "    .colab-df-convert {\n",
              "      background-color: #E8F0FE;\n",
              "      border: none;\n",
              "      border-radius: 50%;\n",
              "      cursor: pointer;\n",
              "      display: none;\n",
              "      fill: #1967D2;\n",
              "      height: 32px;\n",
              "      padding: 0 0 0 0;\n",
              "      width: 32px;\n",
              "    }\n",
              "\n",
              "    .colab-df-convert:hover {\n",
              "      background-color: #E2EBFA;\n",
              "      box-shadow: 0px 1px 2px rgba(60, 64, 67, 0.3), 0px 1px 3px 1px rgba(60, 64, 67, 0.15);\n",
              "      fill: #174EA6;\n",
              "    }\n",
              "\n",
              "    [theme=dark] .colab-df-convert {\n",
              "      background-color: #3B4455;\n",
              "      fill: #D2E3FC;\n",
              "    }\n",
              "\n",
              "    [theme=dark] .colab-df-convert:hover {\n",
              "      background-color: #434B5C;\n",
              "      box-shadow: 0px 1px 3px 1px rgba(0, 0, 0, 0.15);\n",
              "      filter: drop-shadow(0px 1px 2px rgba(0, 0, 0, 0.3));\n",
              "      fill: #FFFFFF;\n",
              "    }\n",
              "  </style>\n",
              "\n",
              "      <script>\n",
              "        const buttonEl =\n",
              "          document.querySelector('#df-f7d366d9-c114-412a-84ac-d766797fd1d0 button.colab-df-convert');\n",
              "        buttonEl.style.display =\n",
              "          google.colab.kernel.accessAllowed ? 'block' : 'none';\n",
              "\n",
              "        async function convertToInteractive(key) {\n",
              "          const element = document.querySelector('#df-f7d366d9-c114-412a-84ac-d766797fd1d0');\n",
              "          const dataTable =\n",
              "            await google.colab.kernel.invokeFunction('convertToInteractive',\n",
              "                                                     [key], {});\n",
              "          if (!dataTable) return;\n",
              "\n",
              "          const docLinkHtml = 'Like what you see? Visit the ' +\n",
              "            '<a target=\"_blank\" href=https://colab.research.google.com/notebooks/data_table.ipynb>data table notebook</a>'\n",
              "            + ' to learn more about interactive tables.';\n",
              "          element.innerHTML = '';\n",
              "          dataTable['output_type'] = 'display_data';\n",
              "          await google.colab.output.renderOutput(dataTable, element);\n",
              "          const docLink = document.createElement('div');\n",
              "          docLink.innerHTML = docLinkHtml;\n",
              "          element.appendChild(docLink);\n",
              "        }\n",
              "      </script>\n",
              "    </div>\n",
              "  </div>\n",
              "  "
            ]
          },
          "metadata": {},
          "execution_count": 13
        }
      ]
    },
    {
      "cell_type": "markdown",
      "source": [
        "The second approach to model fairness exaamines the difference in model _output_ directly (i.e. without regard to the actual outcome). In cases where model output is used directly in decision-making, exploring a protected category's influence on the model predictions can be a helpful way to quantify unfair bias. We can see the high-level disparity in predicted likelihood of reoffending here:"
      ],
      "metadata": {
        "id": "xBVysdN6X_pr"
      }
    },
    {
      "cell_type": "code",
      "source": [
        "fairness_df.groupby(\"race\").agg({'predicted_recid':'mean'})"
      ],
      "metadata": {
        "colab": {
          "base_uri": "https://localhost:8080/",
          "height": 143
        },
        "id": "Ccuvp69LhVi4",
        "outputId": "9f7b7a96-8d39-4744-ac37-635db96863fe"
      },
      "execution_count": null,
      "outputs": [
        {
          "output_type": "execute_result",
          "data": {
            "text/plain": [
              "                  predicted_recid\n",
              "race                             \n",
              "African-American         0.494786\n",
              "Caucasian                0.254969"
            ],
            "text/html": [
              "\n",
              "  <div id=\"df-e73e8b18-fc38-4e3f-89ba-27ea41b46fe7\">\n",
              "    <div class=\"colab-df-container\">\n",
              "      <div>\n",
              "<style scoped>\n",
              "    .dataframe tbody tr th:only-of-type {\n",
              "        vertical-align: middle;\n",
              "    }\n",
              "\n",
              "    .dataframe tbody tr th {\n",
              "        vertical-align: top;\n",
              "    }\n",
              "\n",
              "    .dataframe thead th {\n",
              "        text-align: right;\n",
              "    }\n",
              "</style>\n",
              "<table border=\"1\" class=\"dataframe\">\n",
              "  <thead>\n",
              "    <tr style=\"text-align: right;\">\n",
              "      <th></th>\n",
              "      <th>predicted_recid</th>\n",
              "    </tr>\n",
              "    <tr>\n",
              "      <th>race</th>\n",
              "      <th></th>\n",
              "    </tr>\n",
              "  </thead>\n",
              "  <tbody>\n",
              "    <tr>\n",
              "      <th>African-American</th>\n",
              "      <td>0.494786</td>\n",
              "    </tr>\n",
              "    <tr>\n",
              "      <th>Caucasian</th>\n",
              "      <td>0.254969</td>\n",
              "    </tr>\n",
              "  </tbody>\n",
              "</table>\n",
              "</div>\n",
              "      <button class=\"colab-df-convert\" onclick=\"convertToInteractive('df-e73e8b18-fc38-4e3f-89ba-27ea41b46fe7')\"\n",
              "              title=\"Convert this dataframe to an interactive table.\"\n",
              "              style=\"display:none;\">\n",
              "        \n",
              "  <svg xmlns=\"http://www.w3.org/2000/svg\" height=\"24px\"viewBox=\"0 0 24 24\"\n",
              "       width=\"24px\">\n",
              "    <path d=\"M0 0h24v24H0V0z\" fill=\"none\"/>\n",
              "    <path d=\"M18.56 5.44l.94 2.06.94-2.06 2.06-.94-2.06-.94-.94-2.06-.94 2.06-2.06.94zm-11 1L8.5 8.5l.94-2.06 2.06-.94-2.06-.94L8.5 2.5l-.94 2.06-2.06.94zm10 10l.94 2.06.94-2.06 2.06-.94-2.06-.94-.94-2.06-.94 2.06-2.06.94z\"/><path d=\"M17.41 7.96l-1.37-1.37c-.4-.4-.92-.59-1.43-.59-.52 0-1.04.2-1.43.59L10.3 9.45l-7.72 7.72c-.78.78-.78 2.05 0 2.83L4 21.41c.39.39.9.59 1.41.59.51 0 1.02-.2 1.41-.59l7.78-7.78 2.81-2.81c.8-.78.8-2.07 0-2.86zM5.41 20L4 18.59l7.72-7.72 1.47 1.35L5.41 20z\"/>\n",
              "  </svg>\n",
              "      </button>\n",
              "      \n",
              "  <style>\n",
              "    .colab-df-container {\n",
              "      display:flex;\n",
              "      flex-wrap:wrap;\n",
              "      gap: 12px;\n",
              "    }\n",
              "\n",
              "    .colab-df-convert {\n",
              "      background-color: #E8F0FE;\n",
              "      border: none;\n",
              "      border-radius: 50%;\n",
              "      cursor: pointer;\n",
              "      display: none;\n",
              "      fill: #1967D2;\n",
              "      height: 32px;\n",
              "      padding: 0 0 0 0;\n",
              "      width: 32px;\n",
              "    }\n",
              "\n",
              "    .colab-df-convert:hover {\n",
              "      background-color: #E2EBFA;\n",
              "      box-shadow: 0px 1px 2px rgba(60, 64, 67, 0.3), 0px 1px 3px 1px rgba(60, 64, 67, 0.15);\n",
              "      fill: #174EA6;\n",
              "    }\n",
              "\n",
              "    [theme=dark] .colab-df-convert {\n",
              "      background-color: #3B4455;\n",
              "      fill: #D2E3FC;\n",
              "    }\n",
              "\n",
              "    [theme=dark] .colab-df-convert:hover {\n",
              "      background-color: #434B5C;\n",
              "      box-shadow: 0px 1px 3px 1px rgba(0, 0, 0, 0.15);\n",
              "      filter: drop-shadow(0px 1px 2px rgba(0, 0, 0, 0.3));\n",
              "      fill: #FFFFFF;\n",
              "    }\n",
              "  </style>\n",
              "\n",
              "      <script>\n",
              "        const buttonEl =\n",
              "          document.querySelector('#df-e73e8b18-fc38-4e3f-89ba-27ea41b46fe7 button.colab-df-convert');\n",
              "        buttonEl.style.display =\n",
              "          google.colab.kernel.accessAllowed ? 'block' : 'none';\n",
              "\n",
              "        async function convertToInteractive(key) {\n",
              "          const element = document.querySelector('#df-e73e8b18-fc38-4e3f-89ba-27ea41b46fe7');\n",
              "          const dataTable =\n",
              "            await google.colab.kernel.invokeFunction('convertToInteractive',\n",
              "                                                     [key], {});\n",
              "          if (!dataTable) return;\n",
              "\n",
              "          const docLinkHtml = 'Like what you see? Visit the ' +\n",
              "            '<a target=\"_blank\" href=https://colab.research.google.com/notebooks/data_table.ipynb>data table notebook</a>'\n",
              "            + ' to learn more about interactive tables.';\n",
              "          element.innerHTML = '';\n",
              "          dataTable['output_type'] = 'display_data';\n",
              "          await google.colab.output.renderOutput(dataTable, element);\n",
              "          const docLink = document.createElement('div');\n",
              "          docLink.innerHTML = docLinkHtml;\n",
              "          element.appendChild(docLink);\n",
              "        }\n",
              "      </script>\n",
              "    </div>\n",
              "  </div>\n",
              "  "
            ]
          },
          "metadata": {},
          "execution_count": 14
        }
      ]
    },
    {
      "cell_type": "markdown",
      "source": [
        "Both methods highlight the possibility of some disparate treatment happening. However, there is no single correct approach to quantifying model fairness, and the decision will depend upon the context of the analysis. We will illustrate both approaches in the following sections"
      ],
      "metadata": {
        "id": "s5guKAbeepLm"
      }
    },
    {
      "cell_type": "markdown",
      "source": [
        "## Approach 1: Disparity in Model Accuracy\n",
        "We will start by showing cauasal and non-causal methods of evaluating fairness in terms of model performance. For simplicity, we will use classification accuracy (i.e. whether a person's predicted recidivism risk matches the actual outcome). Other metrics, such as F1 score, could also be used."
      ],
      "metadata": {
        "id": "yb2bFkU8riAU"
      }
    },
    {
      "cell_type": "markdown",
      "source": [
        "### Non-Causal Methods\n",
        "\n",
        "As discussed in the chapter, there are many ways to quantify model fairness without using causality. The most basic of these is to examine the high-level difference in accuracy, which we did in the previous section. This showed us that, at the most basic level, model accuracy is considerably lower for black defendants than white defendants. This difference is what Zhang and Bareinboim (2018) refer to as the _total variation_, or TV. \n",
        "\n",
        "The next level of non-causal fairness analysis is to control for relevant information. I'll do this in a similar way that the ProPublica analysts approach racial bias: I'll make a GLM that predicts whether the model correctly predicted an individual's outcome based on things like sex, age, race, prior convictions, and charge degree. This aligns most closely with the _conditional statistical parity_ definition, and we will use the coefficient for race to infer whether the model is unfair."
      ],
      "metadata": {
        "id": "xjmzt_wkkh6i"
      }
    },
    {
      "cell_type": "code",
      "source": [
        "glm_accuracy = smf.logit(\"\"\"\n",
        "correct ~ C(sex , Treatment(reference='Male'))\n",
        "          + age_cat \n",
        "          + C(race, Treatment(reference='Caucasian')) \n",
        "          + c_charge_degree \n",
        "          + priors_count\n",
        "\"\"\", data=fairness_df\n",
        ").fit()"
      ],
      "metadata": {
        "colab": {
          "base_uri": "https://localhost:8080/"
        },
        "id": "0EyRTyZ4tl3t",
        "outputId": "b894e697-306e-4d66-b6f4-6b9c62944394"
      },
      "execution_count": null,
      "outputs": [
        {
          "output_type": "stream",
          "name": "stdout",
          "text": [
            "Optimization terminated successfully.\n",
            "         Current function value: 0.597646\n",
            "         Iterations 5\n"
          ]
        }
      ]
    },
    {
      "cell_type": "code",
      "source": [
        "glm_accuracy.summary()"
      ],
      "metadata": {
        "colab": {
          "base_uri": "https://localhost:8080/",
          "height": 359
        },
        "id": "oFLOa7VowjDL",
        "outputId": "189336e0-76cd-4955-ce88-66d419df6dac"
      },
      "execution_count": null,
      "outputs": [
        {
          "output_type": "execute_result",
          "data": {
            "text/plain": [
              "<class 'statsmodels.iolib.summary.Summary'>\n",
              "\"\"\"\n",
              "                           Logit Regression Results                           \n",
              "==============================================================================\n",
              "Dep. Variable:                correct   No. Observations:                 3377\n",
              "Model:                          Logit   Df Residuals:                     3370\n",
              "Method:                           MLE   Df Model:                            6\n",
              "Date:                Sun, 16 Apr 2023   Pseudo R-squ.:                 0.05654\n",
              "Time:                        19:40:43   Log-Likelihood:                -2018.3\n",
              "converged:                       True   LL-Null:                       -2139.2\n",
              "Covariance Type:            nonrobust   LLR p-value:                 2.213e-49\n",
              "=================================================================================================================================\n",
              "                                                                    coef    std err          z      P>|z|      [0.025      0.975]\n",
              "---------------------------------------------------------------------------------------------------------------------------------\n",
              "Intercept                                                         1.1314      0.085     13.250      0.000       0.964       1.299\n",
              "C(sex, Treatment(reference='Male'))[T.Female]                    -0.1667      0.093     -1.795      0.073      -0.349       0.015\n",
              "age_cat[T.Greater than 45]                                        0.7266      0.106      6.883      0.000       0.520       0.933\n",
              "age_cat[T.Less than 25]                                          -0.6803      0.096     -7.095      0.000      -0.868      -0.492\n",
              "C(race, Treatment(reference='Caucasian'))[T.African-American]    -0.3194      0.081     -3.953      0.000      -0.478      -0.161\n",
              "c_charge_degree[T.M]                                              0.0676      0.080      0.847      0.397      -0.089       0.224\n",
              "priors_count                                                     -0.0808      0.010     -8.373      0.000      -0.100      -0.062\n",
              "=================================================================================================================================\n",
              "\"\"\""
            ],
            "text/html": [
              "<table class=\"simpletable\">\n",
              "<caption>Logit Regression Results</caption>\n",
              "<tr>\n",
              "  <th>Dep. Variable:</th>        <td>correct</td>     <th>  No. Observations:  </th>  <td>  3377</td>  \n",
              "</tr>\n",
              "<tr>\n",
              "  <th>Model:</th>                 <td>Logit</td>      <th>  Df Residuals:      </th>  <td>  3370</td>  \n",
              "</tr>\n",
              "<tr>\n",
              "  <th>Method:</th>                 <td>MLE</td>       <th>  Df Model:          </th>  <td>     6</td>  \n",
              "</tr>\n",
              "<tr>\n",
              "  <th>Date:</th>            <td>Sun, 16 Apr 2023</td> <th>  Pseudo R-squ.:     </th>  <td>0.05654</td> \n",
              "</tr>\n",
              "<tr>\n",
              "  <th>Time:</th>                <td>19:40:43</td>     <th>  Log-Likelihood:    </th> <td> -2018.3</td> \n",
              "</tr>\n",
              "<tr>\n",
              "  <th>converged:</th>             <td>True</td>       <th>  LL-Null:           </th> <td> -2139.2</td> \n",
              "</tr>\n",
              "<tr>\n",
              "  <th>Covariance Type:</th>     <td>nonrobust</td>    <th>  LLR p-value:       </th> <td>2.213e-49</td>\n",
              "</tr>\n",
              "</table>\n",
              "<table class=\"simpletable\">\n",
              "<tr>\n",
              "                                <td></td>                                   <th>coef</th>     <th>std err</th>      <th>z</th>      <th>P>|z|</th>  <th>[0.025</th>    <th>0.975]</th>  \n",
              "</tr>\n",
              "<tr>\n",
              "  <th>Intercept</th>                                                     <td>    1.1314</td> <td>    0.085</td> <td>   13.250</td> <td> 0.000</td> <td>    0.964</td> <td>    1.299</td>\n",
              "</tr>\n",
              "<tr>\n",
              "  <th>C(sex, Treatment(reference='Male'))[T.Female]</th>                 <td>   -0.1667</td> <td>    0.093</td> <td>   -1.795</td> <td> 0.073</td> <td>   -0.349</td> <td>    0.015</td>\n",
              "</tr>\n",
              "<tr>\n",
              "  <th>age_cat[T.Greater than 45]</th>                                    <td>    0.7266</td> <td>    0.106</td> <td>    6.883</td> <td> 0.000</td> <td>    0.520</td> <td>    0.933</td>\n",
              "</tr>\n",
              "<tr>\n",
              "  <th>age_cat[T.Less than 25]</th>                                       <td>   -0.6803</td> <td>    0.096</td> <td>   -7.095</td> <td> 0.000</td> <td>   -0.868</td> <td>   -0.492</td>\n",
              "</tr>\n",
              "<tr>\n",
              "  <th>C(race, Treatment(reference='Caucasian'))[T.African-American]</th> <td>   -0.3194</td> <td>    0.081</td> <td>   -3.953</td> <td> 0.000</td> <td>   -0.478</td> <td>   -0.161</td>\n",
              "</tr>\n",
              "<tr>\n",
              "  <th>c_charge_degree[T.M]</th>                                          <td>    0.0676</td> <td>    0.080</td> <td>    0.847</td> <td> 0.397</td> <td>   -0.089</td> <td>    0.224</td>\n",
              "</tr>\n",
              "<tr>\n",
              "  <th>priors_count</th>                                                  <td>   -0.0808</td> <td>    0.010</td> <td>   -8.373</td> <td> 0.000</td> <td>   -0.100</td> <td>   -0.062</td>\n",
              "</tr>\n",
              "</table>"
            ]
          },
          "metadata": {},
          "execution_count": 16
        }
      ]
    },
    {
      "cell_type": "markdown",
      "source": [
        "Judging by the coefficient for `race`, we can see a strong association between the defendant's race and whether the model correctly classifies the defendant.\n",
        "\n",
        "We can restate this impact as a relative likelihood of being correctly classified:"
      ],
      "metadata": {
        "id": "JKDLNcIAw6mc"
      }
    },
    {
      "cell_type": "code",
      "source": [
        "baseline = exp(1.1314) / (1 + exp(1.1314))\n",
        "\n",
        "exp(-0.3914) / (1 - baseline + (baseline * exp(-0.3914)))"
      ],
      "metadata": {
        "colab": {
          "base_uri": "https://localhost:8080/",
          "height": 37
        },
        "id": "v4FOS4xpat-5",
        "outputId": "38f9f17e-66be-4ef6-f6f9-cb41e17bc837"
      },
      "execution_count": null,
      "outputs": [
        {
          "output_type": "execute_result",
          "data": {
            "text/plain": [
              "0.8953820774355417"
            ],
            "text/latex": "$\\displaystyle 0.895382077435542$"
          },
          "metadata": {},
          "execution_count": 17
        }
      ]
    },
    {
      "cell_type": "markdown",
      "source": [
        "This indicates that black defendants are less than 90% as likely to be correctly categorized as white defendants after controlling for other factors.\n",
        "\n",
        "As an aside, the coefficient for an age of `Less than 25` also suggests the possibility of discriminatory effect:"
      ],
      "metadata": {
        "id": "dYtn-uOybAu_"
      }
    },
    {
      "cell_type": "code",
      "source": [
        "exp(-0.6803) / (1 - baseline + (baseline * exp(-0.6803)))"
      ],
      "metadata": {
        "colab": {
          "base_uri": "https://localhost:8080/",
          "height": 37
        },
        "id": "70K6Xza4-Ytc",
        "outputId": "7bb96a02-74d6-4b98-8b67-56316570fde1"
      },
      "execution_count": null,
      "outputs": [
        {
          "output_type": "execute_result",
          "data": {
            "text/plain": [
              "0.8079659069097392"
            ],
            "text/latex": "$\\displaystyle 0.807965906909739$"
          },
          "metadata": {},
          "execution_count": 18
        }
      ]
    },
    {
      "cell_type": "markdown",
      "source": [
        "This indicates that younger defendants are only ~80% as likely to be correctly categorized as defendants aged 25-45 after controlling for other factors.\n",
        "\n",
        "### Causal Inference\n",
        "We'll now use the `dowhy` library to frame this as a causal inference problem. This work will be similar to Example 5 in _Causal Fairness Analysis_ [(Plecko and Bareinboim, 2022)](https://causalai.net/r90.pdf), particularly leveraging the causal diagrams used there."
      ],
      "metadata": {
        "id": "OfwJ2jjg-26q"
      }
    },
    {
      "cell_type": "code",
      "source": [
        "def group_juvenile_offenses(count):\n",
        "  if count == 0:\n",
        "    return '0'\n",
        "  elif count <= 2:\n",
        "    return '1-2'\n",
        "  else:\n",
        "    return '3+'\n",
        "\n",
        "def group_priors(count):\n",
        "  if count == 0:\n",
        "    return '0'\n",
        "  elif count <= 3:\n",
        "    return '1-3'\n",
        "  elif count <= 8:\n",
        "    return '4-8'\n",
        "  else:\n",
        "    return '9+'\n",
        "\n",
        "fairness_df['juvenile_offenses_grouped'] = fairness_df['juvenile_offenses'].apply(group_juvenile_offenses)\n",
        "fairness_df['priors_grouped'] = fairness_df['priors_count'].apply(group_priors)"
      ],
      "metadata": {
        "id": "5Ykl7gZ3MI6r"
      },
      "execution_count": null,
      "outputs": []
    },
    {
      "cell_type": "code",
      "source": [
        "fairness_df.groupby('juvenile_offenses_grouped').agg({'predicted_recid':['count', 'mean']})"
      ],
      "metadata": {
        "colab": {
          "base_uri": "https://localhost:8080/",
          "height": 206
        },
        "id": "i7PcLb8EM-EM",
        "outputId": "c0396434-9bcd-4169-df20-509958298979"
      },
      "execution_count": null,
      "outputs": [
        {
          "output_type": "execute_result",
          "data": {
            "text/plain": [
              "                          predicted_recid          \n",
              "                                    count      mean\n",
              "juvenile_offenses_grouped                          \n",
              "0                                    3017  0.345376\n",
              "1-2                                   277  0.732852\n",
              "3+                                     83  0.915663"
            ],
            "text/html": [
              "\n",
              "  <div id=\"df-c32edf3d-9cc3-411a-9de4-6771bdb118f7\">\n",
              "    <div class=\"colab-df-container\">\n",
              "      <div>\n",
              "<style scoped>\n",
              "    .dataframe tbody tr th:only-of-type {\n",
              "        vertical-align: middle;\n",
              "    }\n",
              "\n",
              "    .dataframe tbody tr th {\n",
              "        vertical-align: top;\n",
              "    }\n",
              "\n",
              "    .dataframe thead tr th {\n",
              "        text-align: left;\n",
              "    }\n",
              "\n",
              "    .dataframe thead tr:last-of-type th {\n",
              "        text-align: right;\n",
              "    }\n",
              "</style>\n",
              "<table border=\"1\" class=\"dataframe\">\n",
              "  <thead>\n",
              "    <tr>\n",
              "      <th></th>\n",
              "      <th colspan=\"2\" halign=\"left\">predicted_recid</th>\n",
              "    </tr>\n",
              "    <tr>\n",
              "      <th></th>\n",
              "      <th>count</th>\n",
              "      <th>mean</th>\n",
              "    </tr>\n",
              "    <tr>\n",
              "      <th>juvenile_offenses_grouped</th>\n",
              "      <th></th>\n",
              "      <th></th>\n",
              "    </tr>\n",
              "  </thead>\n",
              "  <tbody>\n",
              "    <tr>\n",
              "      <th>0</th>\n",
              "      <td>3017</td>\n",
              "      <td>0.345376</td>\n",
              "    </tr>\n",
              "    <tr>\n",
              "      <th>1-2</th>\n",
              "      <td>277</td>\n",
              "      <td>0.732852</td>\n",
              "    </tr>\n",
              "    <tr>\n",
              "      <th>3+</th>\n",
              "      <td>83</td>\n",
              "      <td>0.915663</td>\n",
              "    </tr>\n",
              "  </tbody>\n",
              "</table>\n",
              "</div>\n",
              "      <button class=\"colab-df-convert\" onclick=\"convertToInteractive('df-c32edf3d-9cc3-411a-9de4-6771bdb118f7')\"\n",
              "              title=\"Convert this dataframe to an interactive table.\"\n",
              "              style=\"display:none;\">\n",
              "        \n",
              "  <svg xmlns=\"http://www.w3.org/2000/svg\" height=\"24px\"viewBox=\"0 0 24 24\"\n",
              "       width=\"24px\">\n",
              "    <path d=\"M0 0h24v24H0V0z\" fill=\"none\"/>\n",
              "    <path d=\"M18.56 5.44l.94 2.06.94-2.06 2.06-.94-2.06-.94-.94-2.06-.94 2.06-2.06.94zm-11 1L8.5 8.5l.94-2.06 2.06-.94-2.06-.94L8.5 2.5l-.94 2.06-2.06.94zm10 10l.94 2.06.94-2.06 2.06-.94-2.06-.94-.94-2.06-.94 2.06-2.06.94z\"/><path d=\"M17.41 7.96l-1.37-1.37c-.4-.4-.92-.59-1.43-.59-.52 0-1.04.2-1.43.59L10.3 9.45l-7.72 7.72c-.78.78-.78 2.05 0 2.83L4 21.41c.39.39.9.59 1.41.59.51 0 1.02-.2 1.41-.59l7.78-7.78 2.81-2.81c.8-.78.8-2.07 0-2.86zM5.41 20L4 18.59l7.72-7.72 1.47 1.35L5.41 20z\"/>\n",
              "  </svg>\n",
              "      </button>\n",
              "      \n",
              "  <style>\n",
              "    .colab-df-container {\n",
              "      display:flex;\n",
              "      flex-wrap:wrap;\n",
              "      gap: 12px;\n",
              "    }\n",
              "\n",
              "    .colab-df-convert {\n",
              "      background-color: #E8F0FE;\n",
              "      border: none;\n",
              "      border-radius: 50%;\n",
              "      cursor: pointer;\n",
              "      display: none;\n",
              "      fill: #1967D2;\n",
              "      height: 32px;\n",
              "      padding: 0 0 0 0;\n",
              "      width: 32px;\n",
              "    }\n",
              "\n",
              "    .colab-df-convert:hover {\n",
              "      background-color: #E2EBFA;\n",
              "      box-shadow: 0px 1px 2px rgba(60, 64, 67, 0.3), 0px 1px 3px 1px rgba(60, 64, 67, 0.15);\n",
              "      fill: #174EA6;\n",
              "    }\n",
              "\n",
              "    [theme=dark] .colab-df-convert {\n",
              "      background-color: #3B4455;\n",
              "      fill: #D2E3FC;\n",
              "    }\n",
              "\n",
              "    [theme=dark] .colab-df-convert:hover {\n",
              "      background-color: #434B5C;\n",
              "      box-shadow: 0px 1px 3px 1px rgba(0, 0, 0, 0.15);\n",
              "      filter: drop-shadow(0px 1px 2px rgba(0, 0, 0, 0.3));\n",
              "      fill: #FFFFFF;\n",
              "    }\n",
              "  </style>\n",
              "\n",
              "      <script>\n",
              "        const buttonEl =\n",
              "          document.querySelector('#df-c32edf3d-9cc3-411a-9de4-6771bdb118f7 button.colab-df-convert');\n",
              "        buttonEl.style.display =\n",
              "          google.colab.kernel.accessAllowed ? 'block' : 'none';\n",
              "\n",
              "        async function convertToInteractive(key) {\n",
              "          const element = document.querySelector('#df-c32edf3d-9cc3-411a-9de4-6771bdb118f7');\n",
              "          const dataTable =\n",
              "            await google.colab.kernel.invokeFunction('convertToInteractive',\n",
              "                                                     [key], {});\n",
              "          if (!dataTable) return;\n",
              "\n",
              "          const docLinkHtml = 'Like what you see? Visit the ' +\n",
              "            '<a target=\"_blank\" href=https://colab.research.google.com/notebooks/data_table.ipynb>data table notebook</a>'\n",
              "            + ' to learn more about interactive tables.';\n",
              "          element.innerHTML = '';\n",
              "          dataTable['output_type'] = 'display_data';\n",
              "          await google.colab.output.renderOutput(dataTable, element);\n",
              "          const docLink = document.createElement('div');\n",
              "          docLink.innerHTML = docLinkHtml;\n",
              "          element.appendChild(docLink);\n",
              "        }\n",
              "      </script>\n",
              "    </div>\n",
              "  </div>\n",
              "  "
            ]
          },
          "metadata": {},
          "execution_count": 20
        }
      ]
    },
    {
      "cell_type": "code",
      "source": [
        "fairness_df.groupby('priors_grouped', dropna=False).agg({'predicted_recid':['count', 'mean']})"
      ],
      "metadata": {
        "colab": {
          "base_uri": "https://localhost:8080/",
          "height": 238
        },
        "id": "ODw-n8gRNF0e",
        "outputId": "911ea0f6-42af-4c97-9a6c-6cdc4a2d2063"
      },
      "execution_count": null,
      "outputs": [
        {
          "output_type": "execute_result",
          "data": {
            "text/plain": [
              "               predicted_recid          \n",
              "                         count      mean\n",
              "priors_grouped                          \n",
              "0                         1293  0.253674\n",
              "1-3                       1260  0.345238\n",
              "4-8                        549  0.577413\n",
              "9+                         275  0.876364"
            ],
            "text/html": [
              "\n",
              "  <div id=\"df-e56d8e3e-60f6-46d2-a904-22680a8dc309\">\n",
              "    <div class=\"colab-df-container\">\n",
              "      <div>\n",
              "<style scoped>\n",
              "    .dataframe tbody tr th:only-of-type {\n",
              "        vertical-align: middle;\n",
              "    }\n",
              "\n",
              "    .dataframe tbody tr th {\n",
              "        vertical-align: top;\n",
              "    }\n",
              "\n",
              "    .dataframe thead tr th {\n",
              "        text-align: left;\n",
              "    }\n",
              "\n",
              "    .dataframe thead tr:last-of-type th {\n",
              "        text-align: right;\n",
              "    }\n",
              "</style>\n",
              "<table border=\"1\" class=\"dataframe\">\n",
              "  <thead>\n",
              "    <tr>\n",
              "      <th></th>\n",
              "      <th colspan=\"2\" halign=\"left\">predicted_recid</th>\n",
              "    </tr>\n",
              "    <tr>\n",
              "      <th></th>\n",
              "      <th>count</th>\n",
              "      <th>mean</th>\n",
              "    </tr>\n",
              "    <tr>\n",
              "      <th>priors_grouped</th>\n",
              "      <th></th>\n",
              "      <th></th>\n",
              "    </tr>\n",
              "  </thead>\n",
              "  <tbody>\n",
              "    <tr>\n",
              "      <th>0</th>\n",
              "      <td>1293</td>\n",
              "      <td>0.253674</td>\n",
              "    </tr>\n",
              "    <tr>\n",
              "      <th>1-3</th>\n",
              "      <td>1260</td>\n",
              "      <td>0.345238</td>\n",
              "    </tr>\n",
              "    <tr>\n",
              "      <th>4-8</th>\n",
              "      <td>549</td>\n",
              "      <td>0.577413</td>\n",
              "    </tr>\n",
              "    <tr>\n",
              "      <th>9+</th>\n",
              "      <td>275</td>\n",
              "      <td>0.876364</td>\n",
              "    </tr>\n",
              "  </tbody>\n",
              "</table>\n",
              "</div>\n",
              "      <button class=\"colab-df-convert\" onclick=\"convertToInteractive('df-e56d8e3e-60f6-46d2-a904-22680a8dc309')\"\n",
              "              title=\"Convert this dataframe to an interactive table.\"\n",
              "              style=\"display:none;\">\n",
              "        \n",
              "  <svg xmlns=\"http://www.w3.org/2000/svg\" height=\"24px\"viewBox=\"0 0 24 24\"\n",
              "       width=\"24px\">\n",
              "    <path d=\"M0 0h24v24H0V0z\" fill=\"none\"/>\n",
              "    <path d=\"M18.56 5.44l.94 2.06.94-2.06 2.06-.94-2.06-.94-.94-2.06-.94 2.06-2.06.94zm-11 1L8.5 8.5l.94-2.06 2.06-.94-2.06-.94L8.5 2.5l-.94 2.06-2.06.94zm10 10l.94 2.06.94-2.06 2.06-.94-2.06-.94-.94-2.06-.94 2.06-2.06.94z\"/><path d=\"M17.41 7.96l-1.37-1.37c-.4-.4-.92-.59-1.43-.59-.52 0-1.04.2-1.43.59L10.3 9.45l-7.72 7.72c-.78.78-.78 2.05 0 2.83L4 21.41c.39.39.9.59 1.41.59.51 0 1.02-.2 1.41-.59l7.78-7.78 2.81-2.81c.8-.78.8-2.07 0-2.86zM5.41 20L4 18.59l7.72-7.72 1.47 1.35L5.41 20z\"/>\n",
              "  </svg>\n",
              "      </button>\n",
              "      \n",
              "  <style>\n",
              "    .colab-df-container {\n",
              "      display:flex;\n",
              "      flex-wrap:wrap;\n",
              "      gap: 12px;\n",
              "    }\n",
              "\n",
              "    .colab-df-convert {\n",
              "      background-color: #E8F0FE;\n",
              "      border: none;\n",
              "      border-radius: 50%;\n",
              "      cursor: pointer;\n",
              "      display: none;\n",
              "      fill: #1967D2;\n",
              "      height: 32px;\n",
              "      padding: 0 0 0 0;\n",
              "      width: 32px;\n",
              "    }\n",
              "\n",
              "    .colab-df-convert:hover {\n",
              "      background-color: #E2EBFA;\n",
              "      box-shadow: 0px 1px 2px rgba(60, 64, 67, 0.3), 0px 1px 3px 1px rgba(60, 64, 67, 0.15);\n",
              "      fill: #174EA6;\n",
              "    }\n",
              "\n",
              "    [theme=dark] .colab-df-convert {\n",
              "      background-color: #3B4455;\n",
              "      fill: #D2E3FC;\n",
              "    }\n",
              "\n",
              "    [theme=dark] .colab-df-convert:hover {\n",
              "      background-color: #434B5C;\n",
              "      box-shadow: 0px 1px 3px 1px rgba(0, 0, 0, 0.15);\n",
              "      filter: drop-shadow(0px 1px 2px rgba(0, 0, 0, 0.3));\n",
              "      fill: #FFFFFF;\n",
              "    }\n",
              "  </style>\n",
              "\n",
              "      <script>\n",
              "        const buttonEl =\n",
              "          document.querySelector('#df-e56d8e3e-60f6-46d2-a904-22680a8dc309 button.colab-df-convert');\n",
              "        buttonEl.style.display =\n",
              "          google.colab.kernel.accessAllowed ? 'block' : 'none';\n",
              "\n",
              "        async function convertToInteractive(key) {\n",
              "          const element = document.querySelector('#df-e56d8e3e-60f6-46d2-a904-22680a8dc309');\n",
              "          const dataTable =\n",
              "            await google.colab.kernel.invokeFunction('convertToInteractive',\n",
              "                                                     [key], {});\n",
              "          if (!dataTable) return;\n",
              "\n",
              "          const docLinkHtml = 'Like what you see? Visit the ' +\n",
              "            '<a target=\"_blank\" href=https://colab.research.google.com/notebooks/data_table.ipynb>data table notebook</a>'\n",
              "            + ' to learn more about interactive tables.';\n",
              "          element.innerHTML = '';\n",
              "          dataTable['output_type'] = 'display_data';\n",
              "          await google.colab.output.renderOutput(dataTable, element);\n",
              "          const docLink = document.createElement('div');\n",
              "          docLink.innerHTML = docLinkHtml;\n",
              "          element.appendChild(docLink);\n",
              "        }\n",
              "      </script>\n",
              "    </div>\n",
              "  </div>\n",
              "  "
            ]
          },
          "metadata": {},
          "execution_count": 21
        }
      ]
    },
    {
      "cell_type": "markdown",
      "source": [
        "Let's define our causal graph using Graph Markup Language. What we want is something like this, where we have the following variables:\n",
        "* X: race\n",
        "* Y: COMPAS model accuracy\n",
        "* Z1: gender\n",
        "* Z2: age\n",
        "* J: juvenile offense count\n",
        "* P: prior offense count\n",
        "* D: degree of charge\n",
        "\n",
        "![Screen Shot 2023-01-23 at 8.32.11 PM.png](data:image/png;base64,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)"
      ],
      "metadata": {
        "id": "bC65uRpBnS8J"
      }
    },
    {
      "cell_type": "code",
      "source": [
        "causal_graph_accuracy = \"\"\"\n",
        "graph [\n",
        "  comment \"Causal graph for the COMPAS dataset\"\n",
        "  directed 1\n",
        "  IsPlanar 1\n",
        "  node [\n",
        "    id \"race\"\n",
        "    label \"race\"\n",
        "  ]\n",
        "  node [\n",
        "    id \"correct\"\n",
        "    label \"correct\"\n",
        "  ]\n",
        "  node [\n",
        "    id \"sex\"\n",
        "    label \"sex\"\n",
        "  ]\n",
        "  node [\n",
        "    id \"age_cat\"\n",
        "    label \"age_cat\"\n",
        "  ]\n",
        "  node [\n",
        "    id \"juvenile_offenses_grouped\"\n",
        "    label \"juvenile_offenses_grouped\"\n",
        "  ]\n",
        "  node [\n",
        "    id \"priors_grouped\"\n",
        "    label \"priors_grouped\"\n",
        "  ]\n",
        "  node [\n",
        "    id \"c_charge_degree\"\n",
        "    label \"c_charge_degree\"\n",
        "  ]\n",
        "  edge [\n",
        "    source \"race\"\n",
        "    target \"correct\"\n",
        "    label \"Discriminatory Effect\"\n",
        "  ]\n",
        "  edge [\n",
        "    source \"race\"\n",
        "    target \"juvenile_offenses_grouped\"\n",
        "    label \"Edge from race to juvenile offense count\"\n",
        "  ]\n",
        "  edge [\n",
        "    source \"race\"\n",
        "    target \"priors_grouped\"\n",
        "    label \"Edge from race to prior offense count\"\n",
        "  ]\n",
        "  edge [\n",
        "    source \"race\"\n",
        "    target \"c_charge_degree\"\n",
        "    label \"Edge from race to charge degree\"\n",
        "  ]\n",
        "  edge [\n",
        "    source \"sex\"\n",
        "    target \"correct\"\n",
        "    label \"Edge from sex to outcome\"\n",
        "  ]\n",
        "  edge [\n",
        "    source \"sex\"\n",
        "    target \"juvenile_offenses_grouped\"\n",
        "    label \"Edge from sex to juvenile offense count\"\n",
        "  ]\n",
        "  edge [\n",
        "    source \"sex\"\n",
        "    target \"priors_grouped\"\n",
        "    label \"Edge from sex to prior offense count\"\n",
        "  ]\n",
        "  edge [\n",
        "    source \"sex\"\n",
        "    target \"c_charge_degree\"\n",
        "    label \"Edge from sex to charge degree\"\n",
        "  ]\n",
        "  edge [\n",
        "    source \"age_cat\"\n",
        "    target \"correct\"\n",
        "    label \"Edge from age to outcome\"\n",
        "  ]\n",
        "  edge [\n",
        "    source \"age_cat\"\n",
        "    target \"juvenile_offenses_grouped\"\n",
        "    label \"Edge from age to juvenile offense count\"\n",
        "  ]\n",
        "  edge [\n",
        "    source \"age_cat\"\n",
        "    target \"priors_grouped\"\n",
        "    label \"Edge from age to prior offense count\"\n",
        "  ]\n",
        "  edge [\n",
        "    source \"age_cat\"\n",
        "    target \"c_charge_degree\"\n",
        "    label \"Edge from age to charge degree\"\n",
        "  ]\n",
        "\n",
        "  edge [\n",
        "    source \"juvenile_offenses_grouped\"\n",
        "    target \"priors_grouped\"\n",
        "    label \"Edge from juvenile count to prior count\"\n",
        "  ]\n",
        "  edge [\n",
        "    source \"juvenile_offenses_grouped\"\n",
        "    target \"c_charge_degree\"\n",
        "    label \"Edge from juvenile count to charge degree\"\n",
        "  ]\n",
        "  edge [\n",
        "    source \"juvenile_offenses_grouped\"\n",
        "    target \"correct\"\n",
        "    label \"Edge from juvenile count to outcome\"\n",
        "  ]\n",
        "  edge [\n",
        "    source \"priors_grouped\"\n",
        "    target \"c_charge_degree\"\n",
        "    label \"Edge from prior count to charge degree\"\n",
        "  ]\n",
        "  edge [\n",
        "    source \"c_charge_degree\"\n",
        "    target \"correct\"\n",
        "    label \"Edge from charge degree to outcome\"\n",
        "  ]\n",
        "]\n",
        "\"\"\""
      ],
      "metadata": {
        "id": "OcNsRapInVTw"
      },
      "execution_count": null,
      "outputs": []
    },
    {
      "cell_type": "markdown",
      "source": [
        "That's a lot of text, but we now have a causal graph to use in `dowhy`\n",
        "\n",
        "We need to encode `race` as a numeric factor prior to using `dowhy`, so we'll do that here"
      ],
      "metadata": {
        "id": "0EoYbrLJqSK_"
      }
    },
    {
      "cell_type": "code",
      "source": [
        "causal_df = fairness_df\\\n",
        "  .assign(race=lambda x: x.race.map({'Caucasian':0, 'African-American':1}))\n",
        "\n",
        "causal_model_accuracy = CausalModel(data=causal_df, treatment=\"race\", outcome=\"correct\", graph=causal_graph_accuracy)\n",
        "causal_model_accuracy.view_model()"
      ],
      "metadata": {
        "colab": {
          "base_uri": "https://localhost:8080/",
          "height": 537
        },
        "id": "sT6yqJVmqRHX",
        "outputId": "ceb6940e-10b5-441e-f8bd-fc40c0f886f2"
      },
      "execution_count": null,
      "outputs": [
        {
          "output_type": "stream",
          "name": "stderr",
          "text": [
            "WARNING:dowhy.causal_graph:Warning: Pygraphviz cannot be loaded. Check that graphviz and pygraphviz are installed.\n"
          ]
        },
        {
          "output_type": "display_data",
          "data": {
            "text/plain": [
              "<Figure size 800x600 with 1 Axes>"
            ],
            "image/png": "[encoded data removed]"
          },
          "metadata": {}
        }
      ]
    },
    {
      "cell_type": "code",
      "source": [
        "identified_estimand_accuracy = causal_model_accuracy.identify_effect()\n",
        "print(identified_estimand_accuracy)"
      ],
      "metadata": {
        "colab": {
          "base_uri": "https://localhost:8080/"
        },
        "id": "nSop9Ty5t49_",
        "outputId": "829d0909-45aa-4587-e600-00a8bead816a"
      },
      "execution_count": null,
      "outputs": [
        {
          "output_type": "stream",
          "name": "stdout",
          "text": [
            "Estimand type: EstimandType.NONPARAMETRIC_ATE\n",
            "\n",
            "### Estimand : 1\n",
            "Estimand name: backdoor\n",
            "Estimand expression:\n",
            "   d               \n",
            "───────(E[correct])\n",
            "d[race]            \n",
            "Estimand assumption 1, Unconfoundedness: If U→{race} and U→correct then P(correct|race,,U) = P(correct|race,)\n",
            "\n",
            "### Estimand : 2\n",
            "Estimand name: iv\n",
            "No such variable(s) found!\n",
            "\n",
            "### Estimand : 3\n",
            "Estimand name: frontdoor\n",
            "No such variable(s) found!\n",
            "\n"
          ]
        }
      ]
    },
    {
      "cell_type": "code",
      "source": [
        "estimate_accuracy = causal_model_accuracy.estimate_effect(\n",
        "    identified_estimand_accuracy,\n",
        "    control_value=0, \n",
        "    treatment_value=1,\n",
        "    method_name=\"backdoor.generalized_linear_model\",\n",
        "    method_params={'glm_family':statsmodels.api.families.Binomial()}\n",
        ")\n",
        "\n",
        "estimate_accuracy.value"
      ],
      "metadata": {
        "id": "pRV9BH5_rT6V",
        "colab": {
          "base_uri": "https://localhost:8080/",
          "height": 37
        },
        "outputId": "e4e27151-bf84-41d5-c68c-f956d532e464"
      },
      "execution_count": null,
      "outputs": [
        {
          "output_type": "execute_result",
          "data": {
            "text/plain": [
              "-0.11602012172673581"
            ],
            "text/latex": "$\\displaystyle -0.116020121726736$"
          },
          "metadata": {},
          "execution_count": 25
        }
      ]
    },
    {
      "cell_type": "code",
      "source": [
        "estimate_accuracy.get_confidence_intervals()"
      ],
      "metadata": {
        "colab": {
          "base_uri": "https://localhost:8080/",
          "height": 37
        },
        "id": "J_ZcCZ9hlqKM",
        "outputId": "dd13c98f-a75e-4180-9fa1-7ed66d810cef"
      },
      "execution_count": null,
      "outputs": [
        {
          "output_type": "execute_result",
          "data": {
            "text/plain": [
              "(-0.14276289228157402, -0.08816615398480188)"
            ],
            "text/latex": "$\\displaystyle \\left( -0.142762892281574, \\  -0.0881661539848019\\right)$"
          },
          "metadata": {},
          "execution_count": 26
        }
      ]
    },
    {
      "cell_type": "code",
      "source": [
        "estimate_accuracy.test_stat_significance()"
      ],
      "metadata": {
        "colab": {
          "base_uri": "https://localhost:8080/"
        },
        "id": "3PMzS_OamFSY",
        "outputId": "dd2a8877-3a5f-45b9-a07f-8beddafb0a9f"
      },
      "execution_count": null,
      "outputs": [
        {
          "output_type": "execute_result",
          "data": {
            "text/plain": [
              "{'p_value': (0, 0.001)}"
            ]
          },
          "metadata": {},
          "execution_count": 28
        }
      ]
    },
    {
      "cell_type": "code",
      "source": [
        "estimate_accuracy.interpret()"
      ],
      "metadata": {
        "colab": {
          "base_uri": "https://localhost:8080/"
        },
        "id": "5imaB37Az831",
        "outputId": "0397aca9-80c3-4c57-b95a-6c0c5b8886ba"
      },
      "execution_count": null,
      "outputs": [
        {
          "output_type": "stream",
          "name": "stdout",
          "text": [
            "Increasing the treatment variable(s) [race] from 0 to 1 causes an increase of -0.11602012172673581 in the expected value of the outcome [correct], over the data distribution/population represented by the dataset.\n"
          ]
        }
      ]
    },
    {
      "cell_type": "markdown",
      "source": [
        "This indicates that there is a fairly strong causal link between a defendant's race and whether they are correctly categorized as high-risk by the COMPAS model. In fact, this shows that the causal effect of a defendant being Black is a reduction of 11.6 percentage points in expected accuracy. This means that **the causal estimand is slightly larger** than the non-causal measure.\n",
        "\n",
        "The `dowhy` library also contains tools for refuting an estimate of causal impact. These techniques use the relationships in the causal graph to simulate various changes which test the robustness of the estimate provided by the data.\n",
        "\n",
        "The first refutation we'll use is a random common cause. This method adds a randomly drawn covariate to the data and recalculates the estimate -- ideally, this will not alter our estimate."
      ],
      "metadata": {
        "id": "WWVjFgqtz_-z"
      }
    },
    {
      "cell_type": "code",
      "source": [
        "res_random=causal_model_accuracy.refute_estimate(identified_estimand_accuracy, \n",
        "                                                 estimate_accuracy, \n",
        "                                                 method_name=\"random_common_cause\")\n",
        "print(res_random)"
      ],
      "metadata": {
        "colab": {
          "base_uri": "https://localhost:8080/"
        },
        "id": "jDPbJcVssFMO",
        "outputId": "8ba66084-665e-44f9-d709-dffbd0d472dd"
      },
      "execution_count": null,
      "outputs": [
        {
          "output_type": "stream",
          "name": "stdout",
          "text": [
            "Refute: Add a random common cause\n",
            "Estimated effect:-0.11602012172673581\n",
            "New effect:-0.11601074267629269\n",
            "p value:0.92\n",
            "\n"
          ]
        }
      ]
    },
    {
      "cell_type": "markdown",
      "source": [
        "As we can see, the \"refuted\" result is not very different from our original estimate. This gives us confidence that our assumptions were correct!\n",
        "\n",
        "The next refutation method we'll use is a placebo treatment: this technique randomly assigns a covariate as a treatment and then recalculates the estimate. The effect of the placebo should be near zero:"
      ],
      "metadata": {
        "id": "Ef40MEBh3BlA"
      }
    },
    {
      "cell_type": "code",
      "source": [
        "res_placebo=causal_model_accuracy.refute_estimate(identified_estimand_accuracy, \n",
        "                                                  estimate_accuracy,\n",
        "                                                  method_name=\"placebo_treatment_refuter\")\n",
        "print(res_placebo)"
      ],
      "metadata": {
        "colab": {
          "base_uri": "https://localhost:8080/"
        },
        "id": "0JTzpj3NsK48",
        "outputId": "364055c3-5dc3-42bc-fef9-c0727b712383"
      },
      "execution_count": null,
      "outputs": [
        {
          "output_type": "stream",
          "name": "stdout",
          "text": [
            "Refute: Use a Placebo Treatment\n",
            "Estimated effect:-0.11602012172673581\n",
            "New effect:0.0033582658759722128\n",
            "p value:0.72\n",
            "\n"
          ]
        }
      ]
    },
    {
      "cell_type": "markdown",
      "source": [
        "Once again, we get a good result from the refutation\n",
        "\n",
        "We have one more refutation technique to use in this example: this method splits our data into random subsets and sees how the causal estimates change between subsets. The new effect will hopefully be similar to our original:"
      ],
      "metadata": {
        "id": "ni45Xv5H3i74"
      }
    },
    {
      "cell_type": "code",
      "source": [
        "res_subset=causal_model_accuracy.refute_estimate(identified_estimand_accuracy, \n",
        "                                                 estimate_accuracy,\n",
        "                                                 method_name=\"data_subset_refuter\", \n",
        "                                                 subset_fraction=0.9)\n",
        "print(res_subset)"
      ],
      "metadata": {
        "colab": {
          "base_uri": "https://localhost:8080/"
        },
        "id": "AGUK-u6esksg",
        "outputId": "3764f016-3b62-4cf8-f251-9262abb5a062"
      },
      "execution_count": null,
      "outputs": [
        {
          "output_type": "stream",
          "name": "stdout",
          "text": [
            "Refute: Use a subset of data\n",
            "Estimated effect:-0.11602012172673581\n",
            "New effect:-0.11539297201511677\n",
            "p value:0.9\n",
            "\n"
          ]
        }
      ]
    },
    {
      "cell_type": "markdown",
      "source": [
        "That looks good! We can see that our original estimate is robust to all 3 refutation methods."
      ],
      "metadata": {
        "id": "fmK-pxJi4AKM"
      }
    },
    {
      "cell_type": "markdown",
      "source": [
        "## Approach 2: Disparity in Model Predictions\n",
        "\n",
        "This section uses the same tools to assess fairness from the perspective of model predictions. Since COMPAS predictions were used in sentencing, any undue influence stemming from race could have significant and unfair impacts on a defendant's life. \n",
        "\n",
        "As we saw during exploratory analysis, the average prediction is substantially higher for African American defendants than Caucasian defendants"
      ],
      "metadata": {
        "id": "Rna_HTjYZh8A"
      }
    },
    {
      "cell_type": "code",
      "source": [
        "fairness_df.groupby(\"race\").agg({'predicted_recid':'mean'})"
      ],
      "metadata": {
        "colab": {
          "base_uri": "https://localhost:8080/",
          "height": 143
        },
        "id": "VwEJUZzLsRB9",
        "outputId": "caa74149-5893-4c0a-df5d-afbd1beb3076"
      },
      "execution_count": null,
      "outputs": [
        {
          "output_type": "execute_result",
          "data": {
            "text/plain": [
              "                  predicted_recid\n",
              "race                             \n",
              "African-American         0.494786\n",
              "Caucasian                0.254969"
            ],
            "text/html": [
              "\n",
              "  <div id=\"df-acee47d1-aa10-4dc6-8b2b-ce52cba0677b\">\n",
              "    <div class=\"colab-df-container\">\n",
              "      <div>\n",
              "<style scoped>\n",
              "    .dataframe tbody tr th:only-of-type {\n",
              "        vertical-align: middle;\n",
              "    }\n",
              "\n",
              "    .dataframe tbody tr th {\n",
              "        vertical-align: top;\n",
              "    }\n",
              "\n",
              "    .dataframe thead th {\n",
              "        text-align: right;\n",
              "    }\n",
              "</style>\n",
              "<table border=\"1\" class=\"dataframe\">\n",
              "  <thead>\n",
              "    <tr style=\"text-align: right;\">\n",
              "      <th></th>\n",
              "      <th>predicted_recid</th>\n",
              "    </tr>\n",
              "    <tr>\n",
              "      <th>race</th>\n",
              "      <th></th>\n",
              "    </tr>\n",
              "  </thead>\n",
              "  <tbody>\n",
              "    <tr>\n",
              "      <th>African-American</th>\n",
              "      <td>0.494786</td>\n",
              "    </tr>\n",
              "    <tr>\n",
              "      <th>Caucasian</th>\n",
              "      <td>0.254969</td>\n",
              "    </tr>\n",
              "  </tbody>\n",
              "</table>\n",
              "</div>\n",
              "      <button class=\"colab-df-convert\" onclick=\"convertToInteractive('df-acee47d1-aa10-4dc6-8b2b-ce52cba0677b')\"\n",
              "              title=\"Convert this dataframe to an interactive table.\"\n",
              "              style=\"display:none;\">\n",
              "        \n",
              "  <svg xmlns=\"http://www.w3.org/2000/svg\" height=\"24px\"viewBox=\"0 0 24 24\"\n",
              "       width=\"24px\">\n",
              "    <path d=\"M0 0h24v24H0V0z\" fill=\"none\"/>\n",
              "    <path d=\"M18.56 5.44l.94 2.06.94-2.06 2.06-.94-2.06-.94-.94-2.06-.94 2.06-2.06.94zm-11 1L8.5 8.5l.94-2.06 2.06-.94-2.06-.94L8.5 2.5l-.94 2.06-2.06.94zm10 10l.94 2.06.94-2.06 2.06-.94-2.06-.94-.94-2.06-.94 2.06-2.06.94z\"/><path d=\"M17.41 7.96l-1.37-1.37c-.4-.4-.92-.59-1.43-.59-.52 0-1.04.2-1.43.59L10.3 9.45l-7.72 7.72c-.78.78-.78 2.05 0 2.83L4 21.41c.39.39.9.59 1.41.59.51 0 1.02-.2 1.41-.59l7.78-7.78 2.81-2.81c.8-.78.8-2.07 0-2.86zM5.41 20L4 18.59l7.72-7.72 1.47 1.35L5.41 20z\"/>\n",
              "  </svg>\n",
              "      </button>\n",
              "      \n",
              "  <style>\n",
              "    .colab-df-container {\n",
              "      display:flex;\n",
              "      flex-wrap:wrap;\n",
              "      gap: 12px;\n",
              "    }\n",
              "\n",
              "    .colab-df-convert {\n",
              "      background-color: #E8F0FE;\n",
              "      border: none;\n",
              "      border-radius: 50%;\n",
              "      cursor: pointer;\n",
              "      display: none;\n",
              "      fill: #1967D2;\n",
              "      height: 32px;\n",
              "      padding: 0 0 0 0;\n",
              "      width: 32px;\n",
              "    }\n",
              "\n",
              "    .colab-df-convert:hover {\n",
              "      background-color: #E2EBFA;\n",
              "      box-shadow: 0px 1px 2px rgba(60, 64, 67, 0.3), 0px 1px 3px 1px rgba(60, 64, 67, 0.15);\n",
              "      fill: #174EA6;\n",
              "    }\n",
              "\n",
              "    [theme=dark] .colab-df-convert {\n",
              "      background-color: #3B4455;\n",
              "      fill: #D2E3FC;\n",
              "    }\n",
              "\n",
              "    [theme=dark] .colab-df-convert:hover {\n",
              "      background-color: #434B5C;\n",
              "      box-shadow: 0px 1px 3px 1px rgba(0, 0, 0, 0.15);\n",
              "      filter: drop-shadow(0px 1px 2px rgba(0, 0, 0, 0.3));\n",
              "      fill: #FFFFFF;\n",
              "    }\n",
              "  </style>\n",
              "\n",
              "      <script>\n",
              "        const buttonEl =\n",
              "          document.querySelector('#df-acee47d1-aa10-4dc6-8b2b-ce52cba0677b button.colab-df-convert');\n",
              "        buttonEl.style.display =\n",
              "          google.colab.kernel.accessAllowed ? 'block' : 'none';\n",
              "\n",
              "        async function convertToInteractive(key) {\n",
              "          const element = document.querySelector('#df-acee47d1-aa10-4dc6-8b2b-ce52cba0677b');\n",
              "          const dataTable =\n",
              "            await google.colab.kernel.invokeFunction('convertToInteractive',\n",
              "                                                     [key], {});\n",
              "          if (!dataTable) return;\n",
              "\n",
              "          const docLinkHtml = 'Like what you see? Visit the ' +\n",
              "            '<a target=\"_blank\" href=https://colab.research.google.com/notebooks/data_table.ipynb>data table notebook</a>'\n",
              "            + ' to learn more about interactive tables.';\n",
              "          element.innerHTML = '';\n",
              "          dataTable['output_type'] = 'display_data';\n",
              "          await google.colab.output.renderOutput(dataTable, element);\n",
              "          const docLink = document.createElement('div');\n",
              "          docLink.innerHTML = docLinkHtml;\n",
              "          element.appendChild(docLink);\n",
              "        }\n",
              "      </script>\n",
              "    </div>\n",
              "  </div>\n",
              "  "
            ]
          },
          "metadata": {},
          "execution_count": 41
        }
      ]
    },
    {
      "cell_type": "markdown",
      "source": [
        "### Non-Causal Methods\n",
        "\n",
        "We will again use a GLM to provide the non-causal estimate of the racial bias from COMPAS. "
      ],
      "metadata": {
        "id": "4x0HhFBaoKql"
      }
    },
    {
      "cell_type": "code",
      "source": [
        "glm_prediction = smf.logit(\"\"\"\n",
        "predicted_recid ~ C(sex , Treatment(reference='Male'))\n",
        "          + age_cat \n",
        "          + C(race, Treatment(reference='Caucasian')) \n",
        "          + c_charge_degree \n",
        "          + priors_count\n",
        "\"\"\", data=fairness_df\n",
        ").fit()\n",
        "\n",
        "glm_prediction.summary()"
      ],
      "metadata": {
        "colab": {
          "base_uri": "https://localhost:8080/",
          "height": 414
        },
        "id": "DsoVdjAFYptD",
        "outputId": "b0567d41-676c-4d2f-8902-9c86c5ec76fb"
      },
      "execution_count": null,
      "outputs": [
        {
          "output_type": "stream",
          "name": "stdout",
          "text": [
            "Optimization terminated successfully.\n",
            "         Current function value: 0.510457\n",
            "         Iterations 6\n"
          ]
        },
        {
          "output_type": "execute_result",
          "data": {
            "text/plain": [
              "<class 'statsmodels.iolib.summary.Summary'>\n",
              "\"\"\"\n",
              "                           Logit Regression Results                           \n",
              "==============================================================================\n",
              "Dep. Variable:        predicted_recid   No. Observations:                 3377\n",
              "Model:                          Logit   Df Residuals:                     3370\n",
              "Method:                           MLE   Df Model:                            6\n",
              "Date:                Sun, 16 Apr 2023   Pseudo R-squ.:                  0.2373\n",
              "Time:                        19:44:25   Log-Likelihood:                -1723.8\n",
              "converged:                       True   LL-Null:                       -2260.1\n",
              "Covariance Type:            nonrobust   LLR p-value:                1.743e-228\n",
              "=================================================================================================================================\n",
              "                                                                    coef    std err          z      P>|z|      [0.025      0.975]\n",
              "---------------------------------------------------------------------------------------------------------------------------------\n",
              "Intercept                                                        -1.5842      0.096    -16.471      0.000      -1.773      -1.396\n",
              "C(sex, Treatment(reference='Male'))[T.Female]                     0.2352      0.101      2.325      0.020       0.037       0.434\n",
              "age_cat[T.Greater than 45]                                       -1.4516      0.131    -11.095      0.000      -1.708      -1.195\n",
              "age_cat[T.Less than 25]                                           1.3943      0.103     13.600      0.000       1.193       1.595\n",
              "C(race, Treatment(reference='Caucasian'))[T.African-American]     0.5722      0.087      6.592      0.000       0.402       0.742\n",
              "c_charge_degree[T.M]                                             -0.1823      0.087     -2.090      0.037      -0.353      -0.011\n",
              "priors_count                                                      0.3123      0.016     19.330      0.000       0.281       0.344\n",
              "=================================================================================================================================\n",
              "\"\"\""
            ],
            "text/html": [
              "<table class=\"simpletable\">\n",
              "<caption>Logit Regression Results</caption>\n",
              "<tr>\n",
              "  <th>Dep. Variable:</th>    <td>predicted_recid</td> <th>  No. Observations:  </th>   <td>  3377</td>  \n",
              "</tr>\n",
              "<tr>\n",
              "  <th>Model:</th>                 <td>Logit</td>      <th>  Df Residuals:      </th>   <td>  3370</td>  \n",
              "</tr>\n",
              "<tr>\n",
              "  <th>Method:</th>                 <td>MLE</td>       <th>  Df Model:          </th>   <td>     6</td>  \n",
              "</tr>\n",
              "<tr>\n",
              "  <th>Date:</th>            <td>Sun, 16 Apr 2023</td> <th>  Pseudo R-squ.:     </th>   <td>0.2373</td>  \n",
              "</tr>\n",
              "<tr>\n",
              "  <th>Time:</th>                <td>19:44:25</td>     <th>  Log-Likelihood:    </th>  <td> -1723.8</td> \n",
              "</tr>\n",
              "<tr>\n",
              "  <th>converged:</th>             <td>True</td>       <th>  LL-Null:           </th>  <td> -2260.1</td> \n",
              "</tr>\n",
              "<tr>\n",
              "  <th>Covariance Type:</th>     <td>nonrobust</td>    <th>  LLR p-value:       </th> <td>1.743e-228</td>\n",
              "</tr>\n",
              "</table>\n",
              "<table class=\"simpletable\">\n",
              "<tr>\n",
              "                                <td></td>                                   <th>coef</th>     <th>std err</th>      <th>z</th>      <th>P>|z|</th>  <th>[0.025</th>    <th>0.975]</th>  \n",
              "</tr>\n",
              "<tr>\n",
              "  <th>Intercept</th>                                                     <td>   -1.5842</td> <td>    0.096</td> <td>  -16.471</td> <td> 0.000</td> <td>   -1.773</td> <td>   -1.396</td>\n",
              "</tr>\n",
              "<tr>\n",
              "  <th>C(sex, Treatment(reference='Male'))[T.Female]</th>                 <td>    0.2352</td> <td>    0.101</td> <td>    2.325</td> <td> 0.020</td> <td>    0.037</td> <td>    0.434</td>\n",
              "</tr>\n",
              "<tr>\n",
              "  <th>age_cat[T.Greater than 45]</th>                                    <td>   -1.4516</td> <td>    0.131</td> <td>  -11.095</td> <td> 0.000</td> <td>   -1.708</td> <td>   -1.195</td>\n",
              "</tr>\n",
              "<tr>\n",
              "  <th>age_cat[T.Less than 25]</th>                                       <td>    1.3943</td> <td>    0.103</td> <td>   13.600</td> <td> 0.000</td> <td>    1.193</td> <td>    1.595</td>\n",
              "</tr>\n",
              "<tr>\n",
              "  <th>C(race, Treatment(reference='Caucasian'))[T.African-American]</th> <td>    0.5722</td> <td>    0.087</td> <td>    6.592</td> <td> 0.000</td> <td>    0.402</td> <td>    0.742</td>\n",
              "</tr>\n",
              "<tr>\n",
              "  <th>c_charge_degree[T.M]</th>                                          <td>   -0.1823</td> <td>    0.087</td> <td>   -2.090</td> <td> 0.037</td> <td>   -0.353</td> <td>   -0.011</td>\n",
              "</tr>\n",
              "<tr>\n",
              "  <th>priors_count</th>                                                  <td>    0.3123</td> <td>    0.016</td> <td>   19.330</td> <td> 0.000</td> <td>    0.281</td> <td>    0.344</td>\n",
              "</tr>\n",
              "</table>"
            ]
          },
          "metadata": {},
          "execution_count": 33
        }
      ]
    },
    {
      "cell_type": "markdown",
      "source": [
        "We can see a very strong coefficient for race in this model. In terms of relative probability:"
      ],
      "metadata": {
        "id": "MZysIonSmUg2"
      }
    },
    {
      "cell_type": "code",
      "source": [
        "baseline = exp(-1.5842) / (1 + exp(-1.5842))\n",
        "\n",
        "exp(0.5722) / (1 - baseline + (baseline * exp(0.5722)))"
      ],
      "metadata": {
        "colab": {
          "base_uri": "https://localhost:8080/",
          "height": 37
        },
        "id": "zTj96ZdjmZdn",
        "outputId": "eaf6f3d9-3246-4c03-aa1f-c37cbcb77faa"
      },
      "execution_count": null,
      "outputs": [
        {
          "output_type": "execute_result",
          "data": {
            "text/plain": [
              "1.5663120391957737"
            ],
            "text/latex": "$\\displaystyle 1.56631203919577$"
          },
          "metadata": {},
          "execution_count": 34
        }
      ]
    },
    {
      "cell_type": "markdown",
      "source": [
        "This says that African American defendants have a **56.6% higher** likelihood of being predicted as medium/high risk of recidivism after controlling for other features."
      ],
      "metadata": {
        "id": "3aExGhy5mktQ"
      }
    },
    {
      "cell_type": "markdown",
      "source": [
        "### Causal Inference\n",
        "\n",
        "We can again use `dowhy` to perform causal inference on the disparity in model predictions. We'll use the same causal graph as before, with the exception of the outcome being predicted recidivism rather than an indicator of model correctness."
      ],
      "metadata": {
        "id": "JVHTY1dsn0yn"
      }
    },
    {
      "cell_type": "code",
      "source": [
        "causal_graph_prediction = \"\"\"\n",
        "graph [\n",
        "  comment \"Causal graph for the COMPAS dataset\"\n",
        "  directed 1\n",
        "  IsPlanar 1\n",
        "  node [\n",
        "    id \"race\"\n",
        "    label \"race\"\n",
        "  ]\n",
        "  node [\n",
        "    id \"predicted_recid\"\n",
        "    label \"predicted_recid\"\n",
        "  ]\n",
        "  node [\n",
        "    id \"sex\"\n",
        "    label \"sex\"\n",
        "  ]\n",
        "  node [\n",
        "    id \"age_cat\"\n",
        "    label \"age_cat\"\n",
        "  ]\n",
        "  node [\n",
        "    id \"juvenile_offenses_grouped\"\n",
        "    label \"juvenile_offenses_grouped\"\n",
        "  ]\n",
        "  node [\n",
        "    id \"priors_grouped\"\n",
        "    label \"priors_grouped\"\n",
        "  ]\n",
        "  node [\n",
        "    id \"c_charge_degree\"\n",
        "    label \"c_charge_degree\"\n",
        "  ]\n",
        "  edge [\n",
        "    source \"race\"\n",
        "    target \"predicted_recid\"\n",
        "    label \"Discriminatory Effect\"\n",
        "  ]\n",
        "  edge [\n",
        "    source \"race\"\n",
        "    target \"juvenile_offenses_grouped\"\n",
        "    label \"Edge from race to juvenile offense count\"\n",
        "  ]\n",
        "  edge [\n",
        "    source \"race\"\n",
        "    target \"priors_grouped\"\n",
        "    label \"Edge from race to prior offense count\"\n",
        "  ]\n",
        "  edge [\n",
        "    source \"race\"\n",
        "    target \"c_charge_degree\"\n",
        "    label \"Edge from race to charge degree\"\n",
        "  ]\n",
        "  edge [\n",
        "    source \"sex\"\n",
        "    target \"predicted_recid\"\n",
        "    label \"Edge from sex to outcome\"\n",
        "  ]\n",
        "  edge [\n",
        "    source \"sex\"\n",
        "    target \"juvenile_offenses_grouped\"\n",
        "    label \"Edge from sex to juvenile offense count\"\n",
        "  ]\n",
        "  edge [\n",
        "    source \"sex\"\n",
        "    target \"priors_grouped\"\n",
        "    label \"Edge from sex to prior offense count\"\n",
        "  ]\n",
        "  edge [\n",
        "    source \"sex\"\n",
        "    target \"c_charge_degree\"\n",
        "    label \"Edge from sex to charge degree\"\n",
        "  ]\n",
        "  edge [\n",
        "    source \"age_cat\"\n",
        "    target \"predicted_recid\"\n",
        "    label \"Edge from age to outcome\"\n",
        "  ]\n",
        "  edge [\n",
        "    source \"age_cat\"\n",
        "    target \"juvenile_offenses_grouped\"\n",
        "    label \"Edge from age to juvenile offense count\"\n",
        "  ]\n",
        "  edge [\n",
        "    source \"age_cat\"\n",
        "    target \"priors_grouped\"\n",
        "    label \"Edge from age to prior offense count\"\n",
        "  ]\n",
        "  edge [\n",
        "    source \"age_cat\"\n",
        "    target \"c_charge_degree\"\n",
        "    label \"Edge from age to charge degree\"\n",
        "  ]\n",
        "\n",
        "  edge [\n",
        "    source \"juvenile_offenses_grouped\"\n",
        "    target \"priors_grouped\"\n",
        "    label \"Edge from juvenile count to prior count\"\n",
        "  ]\n",
        "  edge [\n",
        "    source \"juvenile_offenses_grouped\"\n",
        "    target \"c_charge_degree\"\n",
        "    label \"Edge from juvenile count to charge degree\"\n",
        "  ]\n",
        "  edge [\n",
        "    source \"juvenile_offenses_grouped\"\n",
        "    target \"predicted_recid\"\n",
        "    label \"Edge from juvenile count to outcome\"\n",
        "  ]\n",
        "  edge [\n",
        "    source \"priors_grouped\"\n",
        "    target \"c_charge_degree\"\n",
        "    label \"Edge from prior count to charge degree\"\n",
        "  ]\n",
        "  edge [\n",
        "    source \"c_charge_degree\"\n",
        "    target \"predicted_recid\"\n",
        "    label \"Edge from charge degree to outcome\"\n",
        "  ]\n",
        "]\n",
        "\"\"\""
      ],
      "metadata": {
        "id": "Pcm4WH9aZVQ7"
      },
      "execution_count": null,
      "outputs": []
    },
    {
      "cell_type": "code",
      "source": [
        "causal_model_prediction = CausalModel(data=causal_df, \n",
        "                     treatment=\"race\", \n",
        "                     outcome=\"predicted_recid\", graph=causal_graph_prediction)\n",
        "causal_model_prediction.view_model()"
      ],
      "metadata": {
        "colab": {
          "base_uri": "https://localhost:8080/",
          "height": 537
        },
        "id": "BTJ8XQbsZwCY",
        "outputId": "df28ecbf-4608-4b16-dcaf-6c62b3c7e123"
      },
      "execution_count": null,
      "outputs": [
        {
          "output_type": "stream",
          "name": "stderr",
          "text": [
            "WARNING:dowhy.causal_graph:Warning: Pygraphviz cannot be loaded. Check that graphviz and pygraphviz are installed.\n"
          ]
        },
        {
          "output_type": "display_data",
          "data": {
            "text/plain": [
              "<Figure size 800x600 with 1 Axes>"
            ],
            "image/png": "[encoded data removed]"
          },
          "metadata": {}
        }
      ]
    },
    {
      "cell_type": "code",
      "source": [
        "identified_estimand_prediction = causal_model_prediction.identify_effect()\n",
        "print(identified_estimand_prediction)\n",
        "\n",
        "estimate_prediction = causal_model_prediction.estimate_effect(\n",
        "    identified_estimand_prediction,\n",
        "    control_value=0, \n",
        "    treatment_value=1,\n",
        "    method_name=\"backdoor.generalized_linear_model\",\n",
        "    method_params={'glm_family':statsmodels.api.families.Binomial()}\n",
        ")"
      ],
      "metadata": {
        "colab": {
          "base_uri": "https://localhost:8080/"
        },
        "id": "ujpcQj2gZ1k8",
        "outputId": "aad34aaf-502b-404a-a49d-0b117b710c38"
      },
      "execution_count": null,
      "outputs": [
        {
          "output_type": "stream",
          "name": "stdout",
          "text": [
            "Estimand type: EstimandType.NONPARAMETRIC_ATE\n",
            "\n",
            "### Estimand : 1\n",
            "Estimand name: backdoor\n",
            "Estimand expression:\n",
            "   d                       \n",
            "───────(E[predicted_recid])\n",
            "d[race]                    \n",
            "Estimand assumption 1, Unconfoundedness: If U→{race} and U→predicted_recid then P(predicted_recid|race,,U) = P(predicted_recid|race,)\n",
            "\n",
            "### Estimand : 2\n",
            "Estimand name: iv\n",
            "No such variable(s) found!\n",
            "\n",
            "### Estimand : 3\n",
            "Estimand name: frontdoor\n",
            "No such variable(s) found!\n",
            "\n"
          ]
        }
      ]
    },
    {
      "cell_type": "code",
      "source": [
        "estimate_prediction.value"
      ],
      "metadata": {
        "colab": {
          "base_uri": "https://localhost:8080/",
          "height": 37
        },
        "id": "se0FzqP9aINc",
        "outputId": "5df7b3e0-826e-4959-c156-b4e852e1f85f"
      },
      "execution_count": null,
      "outputs": [
        {
          "output_type": "execute_result",
          "data": {
            "text/plain": [
              "0.21805313041129498"
            ],
            "text/latex": "$\\displaystyle 0.218053130411295$"
          },
          "metadata": {},
          "execution_count": 38
        }
      ]
    },
    {
      "cell_type": "markdown",
      "source": [
        "The causal effect here is still very large, but it is significantly smaller than the non-causal estimate, which differs from what we saw in the analysis of model accuracy. This is saying that African American defendants have a **21.8% greater chance** of being classified as high risk, and that this difference is **due directly to their race**. Again, the use of causal methods allows us to attribute such disparity to discriminatory effect rather than a coincidental association."
      ],
      "metadata": {
        "id": "rcjS9efpm2Xs"
      }
    },
    {
      "cell_type": "code",
      "source": [
        "estimate_prediction.get_confidence_intervals()"
      ],
      "metadata": {
        "colab": {
          "base_uri": "https://localhost:8080/",
          "height": 37
        },
        "id": "106W9acQaVr_",
        "outputId": "8196c1b4-df8f-4b28-bcd4-93344a6bdb95"
      },
      "execution_count": null,
      "outputs": [
        {
          "output_type": "execute_result",
          "data": {
            "text/plain": [
              "(0.1958614085901236, 0.2421813251125215)"
            ],
            "text/latex": "$\\displaystyle \\left( 0.195861408590124, \\  0.242181325112521\\right)$"
          },
          "metadata": {},
          "execution_count": 39
        }
      ]
    },
    {
      "cell_type": "code",
      "source": [
        "estimate_prediction.interpret()"
      ],
      "metadata": {
        "colab": {
          "base_uri": "https://localhost:8080/"
        },
        "id": "FdtlkVogabpL",
        "outputId": "fbd23ad3-3829-4ec0-b695-4074c499b0eb"
      },
      "execution_count": null,
      "outputs": [
        {
          "output_type": "stream",
          "name": "stdout",
          "text": [
            "Increasing the treatment variable(s) [race] from 0 to 1 causes an increase of 0.21805313041129498 in the expected value of the outcome [predicted_recid], over the data distribution/population represented by the dataset.\n"
          ]
        }
      ]
    },
    {
      "cell_type": "markdown",
      "source": [
        "## Conclusion\n",
        "\n",
        "This case study has provided a walkthrough of estimating model fairness using both causal and non-causal methods. We have seen that these methods may occasionlly produce similar results, and they may differ. However, only causal methods allow us to frame the findings as direct causal effect."
      ],
      "metadata": {
        "id": "3rnGKJ1gsuMW"
      }
    },
    {
      "cell_type": "markdown",
      "source": [
        "## NOTES FOR WRITE-UP\n",
        "\n",
        "* Give context\n",
        "* Put high-level plots in as-is\n",
        "* Describe difference in two approaches\n",
        "* Table of effects like this:\n",
        "\n",
        "|Outcome|Causal Effect|Non-Causal Effect|\n",
        "|:--:|:-:|:-:|\n",
        "| Predicted recidivism | +21.8%| +56.6% |\n",
        "| Model accuracy | -11.6% | -10.5%|"
      ],
      "metadata": {
        "id": "Kv3AVDKR0RM7"
      }
    }
  ]
}