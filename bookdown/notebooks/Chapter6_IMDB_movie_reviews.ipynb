{
 "cells": [
  {
   "attachments": {},
   "cell_type": "markdown",
   "metadata": {
    "id": "cbbu6-Kp81wo"
   },
   "source": [
    "# Setup"
   ]
  },
  {
   "cell_type": "code",
   "execution_count": null,
   "metadata": {
    "execution": {
     "iopub.execute_input": "2023-07-06T15:02:32.543449Z",
     "iopub.status.busy": "2023-07-06T15:02:32.543255Z",
     "iopub.status.idle": "2023-07-06T15:02:34.224057Z",
     "shell.execute_reply": "2023-07-06T15:02:34.223410Z",
     "shell.execute_reply.started": "2023-07-06T15:02:32.543429Z"
    },
    "id": "9_GaOKhK79Xw"
   },
   "outputs": [],
   "source": [
    "try:\n",
    "    import dowhy\n",
    "except:\n",
    "    # install libraries\n",
    "    !pip install bertopic dowhy numba numpy datasets\n",
    "    !pip uninstall --yes numpy\n",
    "    !pip uninstall --yes numba\n",
    "    !pip install numba"
   ]
  },
  {
   "attachments": {},
   "cell_type": "markdown",
   "metadata": {
    "id": "ho0_56EmAT14"
   },
   "source": [
    "# Dataset\n",
    "\n",
    "We'll analyze the [IMDB large movie reviews dataset](https://ai.stanford.edu/~amaas/data/sentiment/), which was introduced in Andrew L. Maas, Raymond E. Daly, Peter T. Pham, Dan Huang, Andrew Y. Ng, and Christopher Potts. (2011). Learning Word Vectors for Sentiment Analysis. The 49th Annual Meeting of the Association for Computational Linguistics (ACL 2011)."
   ]
  },
  {
   "cell_type": "code",
   "execution_count": null,
   "metadata": {
    "execution": {
     "iopub.execute_input": "2023-07-06T15:02:34.225258Z",
     "iopub.status.busy": "2023-07-06T15:02:34.224881Z",
     "iopub.status.idle": "2023-07-06T15:02:34.424947Z",
     "shell.execute_reply": "2023-07-06T15:02:34.424314Z",
     "shell.execute_reply.started": "2023-07-06T15:02:34.225224Z"
    },
    "id": "IpW6LImTASbl"
   },
   "outputs": [],
   "source": [
    "from datasets import load_dataset"
   ]
  },
  {
   "cell_type": "code",
   "execution_count": null,
   "metadata": {
    "colab": {
     "base_uri": "https://localhost:8080/",
     "height": 206
    },
    "execution": {
     "iopub.execute_input": "2023-07-06T15:02:34.427162Z",
     "iopub.status.busy": "2023-07-06T15:02:34.426518Z",
     "iopub.status.idle": "2023-07-06T15:02:55.995109Z",
     "shell.execute_reply": "2023-07-06T15:02:55.994513Z",
     "shell.execute_reply.started": "2023-07-06T15:02:34.427138Z"
    },
    "id": "0IihivdR8fyF",
    "outputId": "17aacea7-9bfe-4e08-bd06-ca96406f032b"
   },
   "outputs": [],
   "source": [
    "ds = load_dataset(\"imdb\")\n",
    "ds"
   ]
  },
  {
   "cell_type": "code",
   "execution_count": null,
   "metadata": {
    "execution": {
     "iopub.execute_input": "2023-07-06T15:02:55.996597Z",
     "iopub.status.busy": "2023-07-06T15:02:55.995996Z",
     "iopub.status.idle": "2023-07-06T15:03:00.773651Z",
     "shell.execute_reply": "2023-07-06T15:03:00.773065Z",
     "shell.execute_reply.started": "2023-07-06T15:02:55.996574Z"
    }
   },
   "outputs": [],
   "source": [
    "import re\n",
    "import string\n",
    " \n",
    "\n",
    "def clean(text):\n",
    "    # Remove line breaks\n",
    "    text = re.sub(r\"<br />\", \"\", text)\n",
    "    return text\n",
    "\n",
    "clean_ds = ds.map(lambda example: {\"text\": clean(example[\"text\"])})"
   ]
  },
  {
   "cell_type": "code",
   "execution_count": null,
   "metadata": {
    "execution": {
     "iopub.execute_input": "2023-07-06T15:03:00.775143Z",
     "iopub.status.busy": "2023-07-06T15:03:00.774589Z",
     "iopub.status.idle": "2023-07-06T15:03:00.839875Z",
     "shell.execute_reply": "2023-07-06T15:03:00.839267Z",
     "shell.execute_reply.started": "2023-07-06T15:03:00.775122Z"
    }
   },
   "outputs": [],
   "source": [
    "clean_ds[\"train\"][\"text\"][0]"
   ]
  },
  {
   "attachments": {},
   "cell_type": "markdown",
   "metadata": {
    "id": "SDZ64UsMTF5T"
   },
   "source": [
    "# Causal Inference\n",
    "\n",
    "Question: What influence do specific topics have on the sentiment of a movie review?\n",
    "\n",
    "* Treatment variable: A specific topic\n",
    "* Outcome variables: sentiment of review\n",
    "* Confounders/covariates: embedding of the review text\n",
    "\n",
    "The treatment variable will be binary and corresponds to the presence or absence of specific topics in the movie review, and the outcome variable will be the sentiment of the review. The sentence embeddings of the reviews will be used as covariates to control for potential confounding factors.\n",
    "\n",
    "We will compute the Conditional Average Treatment Effect (CATE) to get the causal effect a specific topic has on the sentiment of the movie reviews. To compute the CATE, we will condition on the covariates."
   ]
  },
  {
   "attachments": {},
   "cell_type": "markdown",
   "metadata": {},
   "source": [
    "## Embeddings\n",
    "\n",
    "Sentence embeddings are used as the covariates and as input to the  BERTopic topic modeling process, so we will compute them first."
   ]
  },
  {
   "cell_type": "code",
   "execution_count": null,
   "metadata": {
    "execution": {
     "iopub.execute_input": "2023-07-06T15:03:00.841038Z",
     "iopub.status.busy": "2023-07-06T15:03:00.840785Z",
     "iopub.status.idle": "2023-07-06T15:03:02.225505Z",
     "shell.execute_reply": "2023-07-06T15:03:02.224680Z",
     "shell.execute_reply.started": "2023-07-06T15:03:00.841018Z"
    }
   },
   "outputs": [],
   "source": [
    "from sentence_transformers import SentenceTransformer\n",
    "sentence_model = SentenceTransformer(\"all-MiniLM-L6-v2\", device=\"cuda\")"
   ]
  },
  {
   "cell_type": "code",
   "execution_count": null,
   "metadata": {
    "execution": {
     "iopub.execute_input": "2023-07-06T15:03:02.226994Z",
     "iopub.status.busy": "2023-07-06T15:03:02.226765Z",
     "iopub.status.idle": "2023-07-06T15:04:10.544453Z",
     "shell.execute_reply": "2023-07-06T15:04:10.543787Z",
     "shell.execute_reply.started": "2023-07-06T15:03:02.226959Z"
    }
   },
   "outputs": [],
   "source": [
    "train_embeddings = sentence_model.encode(clean_ds[\"train\"][\"text\"], show_progress_bar=True, device=\"cuda\")\n",
    "test_embeddings = sentence_model.encode(clean_ds[\"test\"][\"text\"], show_progress_bar=True, device=\"cuda\")"
   ]
  },
  {
   "attachments": {},
   "cell_type": "markdown",
   "metadata": {
    "id": "XIDfAYC6EbOu"
   },
   "source": [
    " ## Topics\n",
    "\n",
    " We need to compute the topics so we can use them as treatments. We'll use BERTopic for this, as there are minimal parameters to tune and the results are of high quality."
   ]
  },
  {
   "cell_type": "code",
   "execution_count": null,
   "metadata": {
    "execution": {
     "iopub.execute_input": "2023-07-06T15:04:10.545809Z",
     "iopub.status.busy": "2023-07-06T15:04:10.545590Z",
     "iopub.status.idle": "2023-07-06T15:04:16.421311Z",
     "shell.execute_reply": "2023-07-06T15:04:16.420657Z",
     "shell.execute_reply.started": "2023-07-06T15:04:10.545788Z"
    },
    "id": "LoFT0wY3ERtA"
   },
   "outputs": [],
   "source": [
    "from bertopic import BERTopic\n",
    "from sklearn.feature_extraction.text import CountVectorizer\n",
    "from umap import UMAP"
   ]
  },
  {
   "cell_type": "code",
   "execution_count": null,
   "metadata": {
    "execution": {
     "iopub.execute_input": "2023-07-06T15:04:16.424351Z",
     "iopub.status.busy": "2023-07-06T15:04:16.423855Z",
     "iopub.status.idle": "2023-07-06T15:04:16.427585Z",
     "shell.execute_reply": "2023-07-06T15:04:16.427053Z",
     "shell.execute_reply.started": "2023-07-06T15:04:16.424328Z"
    },
    "id": "QN2dBGD5En6B"
   },
   "outputs": [],
   "source": [
    "umap_model = UMAP(n_neighbors=15, n_components=5, min_dist=0.0, metric='cosine', random_state=42)\n",
    "vectorizer_model = CountVectorizer(stop_words=\"english\", ngram_range=(1, 3))"
   ]
  },
  {
   "cell_type": "code",
   "execution_count": null,
   "metadata": {
    "colab": {
     "base_uri": "https://localhost:8080/",
     "height": 49,
     "referenced_widgets": [
      "158eed3040f245c0b3c84174104e1a8c",
      "b0067f1f148c4b5ca1b359ed1f853ff2",
      "c1b9a51823d94e27aae6f0825639c12d",
      "91d69f8355bb47f7a2b39a04dd3d4c24",
      "bf059204c24c4f11871a3803d6e7897b",
      "565708869269497c920ee87531c6ef56",
      "90580a55aa4d472f8a7e3ea918ca8b1f",
      "204b81ff48a340c28c9c11ad5f59d519",
      "80fbcff820684b67ae993571fa727c2b",
      "057e7a95a3534f47ad71a20b6d362471",
      "c15dde6183664c569ad77788f8f4d821"
     ]
    },
    "execution": {
     "iopub.execute_input": "2023-07-06T15:04:16.429933Z",
     "iopub.status.busy": "2023-07-06T15:04:16.429764Z",
     "iopub.status.idle": "2023-07-06T15:04:16.541008Z",
     "shell.execute_reply": "2023-07-06T15:04:16.540282Z",
     "shell.execute_reply.started": "2023-07-06T15:04:16.429916Z"
    },
    "id": "IiaNU-BqIhM8",
    "outputId": "7790d917-eb4d-404c-e05c-226bd1d56619"
   },
   "outputs": [],
   "source": [
    "train_docs = list(clean_ds[\"train\"][\"text\"])\n",
    "test_docs = list(clean_ds[\"test\"][\"text\"])"
   ]
  },
  {
   "cell_type": "code",
   "execution_count": null,
   "metadata": {
    "execution": {
     "iopub.execute_input": "2023-07-06T15:04:16.543429Z",
     "iopub.status.busy": "2023-07-06T15:04:16.543259Z",
     "iopub.status.idle": "2023-07-06T15:12:19.200482Z",
     "shell.execute_reply": "2023-07-06T15:12:19.199766Z",
     "shell.execute_reply.started": "2023-07-06T15:04:16.543410Z"
    }
   },
   "outputs": [],
   "source": [
    "NUM_TOPICS = 50\n",
    "\n",
    "topic_model = BERTopic(\n",
    "    embedding_model=sentence_model, \n",
    "    umap_model=umap_model, \n",
    "    vectorizer_model=vectorizer_model,\n",
    "    calculate_probabilities=True,\n",
    "    nr_topics=NUM_TOPICS,\n",
    ")\n",
    "\n",
    "topics, probs = topic_model.fit_transform(train_docs, train_embeddings)"
   ]
  },
  {
   "cell_type": "code",
   "execution_count": null,
   "metadata": {
    "execution": {
     "iopub.execute_input": "2023-07-06T15:12:19.203658Z",
     "iopub.status.busy": "2023-07-06T15:12:19.203479Z",
     "iopub.status.idle": "2023-07-06T15:12:35.387181Z",
     "shell.execute_reply": "2023-07-06T15:12:35.386567Z",
     "shell.execute_reply.started": "2023-07-06T15:12:19.203636Z"
    }
   },
   "outputs": [],
   "source": [
    "# fine-tune topic representation\n",
    "vectorizer_model_1 = CountVectorizer(stop_words=\"english\", ngram_range=(1, 3), min_df=10)\n",
    "topic_model.update_topics(train_docs, vectorizer_model=vectorizer_model_1)"
   ]
  },
  {
   "attachments": {},
   "cell_type": "markdown",
   "metadata": {},
   "source": [
    "### Visualize Topics"
   ]
  },
  {
   "cell_type": "code",
   "execution_count": null,
   "metadata": {
    "execution": {
     "iopub.execute_input": "2023-07-06T15:12:35.389718Z",
     "iopub.status.busy": "2023-07-06T15:12:35.389554Z",
     "iopub.status.idle": "2023-07-06T15:12:35.392824Z",
     "shell.execute_reply": "2023-07-06T15:12:35.392029Z",
     "shell.execute_reply.started": "2023-07-06T15:12:35.389700Z"
    }
   },
   "outputs": [],
   "source": [
    "# topic_model.visualize_topics()"
   ]
  },
  {
   "attachments": {},
   "cell_type": "markdown",
   "metadata": {
    "id": "Dbbm5uFdIuLE"
   },
   "source": [
    "### Visualize Documents\n",
    "\n",
    "Reduce embeddings to 2D specifically for plotting."
   ]
  },
  {
   "cell_type": "code",
   "execution_count": null,
   "metadata": {
    "execution": {
     "iopub.execute_input": "2023-07-06T15:12:35.395267Z",
     "iopub.status.busy": "2023-07-06T15:12:35.395092Z",
     "iopub.status.idle": "2023-07-06T15:12:53.347650Z",
     "shell.execute_reply": "2023-07-06T15:12:53.346914Z",
     "shell.execute_reply.started": "2023-07-06T15:12:35.395254Z"
    },
    "id": "iJOxhJ2tIrB1"
   },
   "outputs": [],
   "source": [
    "umap_2d = UMAP(n_neighbors=10, n_components=2, min_dist=0.0, metric='cosine')\n",
    "train_embeddings_2d = umap_2d.fit_transform(train_embeddings, clean_ds[\"train\"][\"label\"])"
   ]
  },
  {
   "cell_type": "code",
   "execution_count": null,
   "metadata": {
    "execution": {
     "iopub.execute_input": "2023-07-06T15:12:53.350339Z",
     "iopub.status.busy": "2023-07-06T15:12:53.350174Z",
     "iopub.status.idle": "2023-07-06T15:12:55.420479Z",
     "shell.execute_reply": "2023-07-06T15:12:55.419740Z",
     "shell.execute_reply.started": "2023-07-06T15:12:53.350321Z"
    },
    "id": "O6wG01a3hpwr"
   },
   "outputs": [],
   "source": [
    "topic_model.visualize_documents(\n",
    "    train_docs, \n",
    "    reduced_embeddings=train_embeddings_2d, \n",
    "    hide_document_hover=False, \n",
    "    hide_annotations=True,\n",
    ")"
   ]
  },
  {
   "attachments": {},
   "cell_type": "markdown",
   "metadata": {
    "id": "NEBhJdBtJOOy"
   },
   "source": [
    "### Visualize topic distribution\n",
    "\n",
    "This will show how each token in a review contributes to the topics to which the review is assigned."
   ]
  },
  {
   "attachments": {},
   "cell_type": "markdown",
   "metadata": {
    "id": "WnkzDiqvJZWk"
   },
   "source": [
    "We need soft clusters to more than one topic assigned to a movie overview."
   ]
  },
  {
   "cell_type": "code",
   "execution_count": null,
   "metadata": {
    "execution": {
     "iopub.execute_input": "2023-07-06T15:12:55.423490Z",
     "iopub.status.busy": "2023-07-06T15:12:55.423319Z",
     "iopub.status.idle": "2023-07-06T15:14:04.370986Z",
     "shell.execute_reply": "2023-07-06T15:14:04.370294Z",
     "shell.execute_reply.started": "2023-07-06T15:12:55.423470Z"
    },
    "id": "2uhWxHG4JkCV"
   },
   "outputs": [],
   "source": [
    "topic_distr, topic_token_distr = topic_model.approximate_distribution(\n",
    "    train_docs,\n",
    "    calculate_tokens=True,\n",
    "    window=4,\n",
    ")"
   ]
  },
  {
   "cell_type": "code",
   "execution_count": null,
   "metadata": {
    "colab": {
     "base_uri": "https://localhost:8080/",
     "height": 101
    },
    "execution": {
     "iopub.execute_input": "2023-07-06T15:14:04.374497Z",
     "iopub.status.busy": "2023-07-06T15:14:04.374311Z",
     "iopub.status.idle": "2023-07-06T15:14:04.680977Z",
     "shell.execute_reply": "2023-07-06T15:14:04.680305Z",
     "shell.execute_reply.started": "2023-07-06T15:14:04.374480Z"
    },
    "id": "43nGxyM3Jk-h",
    "outputId": "ddc4f561-e585-4b3f-e15a-a600bf7ab199"
   },
   "outputs": [],
   "source": [
    "df = topic_model.visualize_approximate_distribution(train_docs[0], topic_token_distr[0])\n",
    "df"
   ]
  },
  {
   "cell_type": "code",
   "execution_count": null,
   "metadata": {
    "colab": {
     "base_uri": "https://localhost:8080/",
     "height": 947
    },
    "execution": {
     "iopub.execute_input": "2023-07-06T15:14:04.686208Z",
     "iopub.status.busy": "2023-07-06T15:14:04.685993Z",
     "iopub.status.idle": "2023-07-06T15:14:05.237532Z",
     "shell.execute_reply": "2023-07-06T15:14:05.236848Z",
     "shell.execute_reply.started": "2023-07-06T15:14:04.686190Z"
    },
    "id": "q6wUQIapJnEe",
    "outputId": "b3f35a37-df8f-4c7a-95f3-743718ef9b31"
   },
   "outputs": [],
   "source": [
    "df = topic_model.visualize_approximate_distribution(train_docs[134], topic_token_distr[134])\n",
    "df"
   ]
  },
  {
   "attachments": {},
   "cell_type": "markdown",
   "metadata": {
    "id": "K5udGlAPLqv0"
   },
   "source": [
    "### Topic labels\n",
    "\n",
    "This will help when we select which topic to use a treatment."
   ]
  },
  {
   "cell_type": "code",
   "execution_count": null,
   "metadata": {
    "execution": {
     "iopub.execute_input": "2023-07-06T15:14:05.240294Z",
     "iopub.status.busy": "2023-07-06T15:14:05.240109Z",
     "iopub.status.idle": "2023-07-06T15:14:05.244484Z",
     "shell.execute_reply": "2023-07-06T15:14:05.243914Z",
     "shell.execute_reply.started": "2023-07-06T15:14:05.240276Z"
    },
    "id": "UBbsLwHML2RE"
   },
   "outputs": [],
   "source": [
    "topic_labels = topic_model.generate_topic_labels(\n",
    "    nr_words=4,\n",
    "    topic_prefix=True,\n",
    "    word_length=10,\n",
    "    separator=\"_\",\n",
    ")\n",
    "\n",
    "id2topic = {i-1: f\"t_{label}\" for i, label in enumerate(topic_labels)}\n",
    "\n",
    "# drop outlier topic\n",
    "del id2topic[-1]"
   ]
  },
  {
   "cell_type": "code",
   "execution_count": null,
   "metadata": {
    "colab": {
     "base_uri": "https://localhost:8080/",
     "height": 35
    },
    "execution": {
     "iopub.execute_input": "2023-07-06T15:14:05.247382Z",
     "iopub.status.busy": "2023-07-06T15:14:05.247213Z",
     "iopub.status.idle": "2023-07-06T15:14:05.251321Z",
     "shell.execute_reply": "2023-07-06T15:14:05.250706Z",
     "shell.execute_reply.started": "2023-07-06T15:14:05.247365Z"
    },
    "id": "3oQ3581cN677",
    "outputId": "b9b1ecc1-20e3-4db7-92fb-965157447a4f"
   },
   "outputs": [],
   "source": [
    "id2topic[0]"
   ]
  },
  {
   "attachments": {},
   "cell_type": "markdown",
   "metadata": {
    "id": "VwtDDh21KbMJ"
   },
   "source": [
    "Now that we have topics, lets add them to the dataset as columns. The shape of the topic distribution is shown below. First, we convert each split into a dataframe\n",
    "\n",
    "We also need to generate the topic for the test set."
   ]
  },
  {
   "cell_type": "code",
   "execution_count": null,
   "metadata": {
    "colab": {
     "base_uri": "https://localhost:8080/",
     "height": 37
    },
    "execution": {
     "iopub.execute_input": "2023-07-06T15:14:05.253831Z",
     "iopub.status.busy": "2023-07-06T15:14:05.253658Z",
     "iopub.status.idle": "2023-07-06T15:14:05.314236Z",
     "shell.execute_reply": "2023-07-06T15:14:05.313549Z",
     "shell.execute_reply.started": "2023-07-06T15:14:05.253814Z"
    },
    "id": "d208j_HcKa5a",
    "outputId": "6f4ad899-218f-41e8-a418-4302d6348b31"
   },
   "outputs": [],
   "source": [
    "topic_distr.shape"
   ]
  },
  {
   "cell_type": "code",
   "execution_count": null,
   "metadata": {
    "colab": {
     "base_uri": "https://localhost:8080/",
     "height": 37
    },
    "execution": {
     "iopub.execute_input": "2023-07-06T15:14:05.317086Z",
     "iopub.status.busy": "2023-07-06T15:14:05.316915Z",
     "iopub.status.idle": "2023-07-06T15:14:05.321475Z",
     "shell.execute_reply": "2023-07-06T15:14:05.320848Z",
     "shell.execute_reply.started": "2023-07-06T15:14:05.317069Z"
    },
    "id": "cw-Se6iSJ0r6",
    "outputId": "70ef9bce-34aa-4d3b-e801-9a3d639aa4dd"
   },
   "outputs": [],
   "source": [
    "clean_ds"
   ]
  },
  {
   "cell_type": "code",
   "execution_count": null,
   "metadata": {
    "execution": {
     "iopub.execute_input": "2023-07-06T15:14:05.324063Z",
     "iopub.status.busy": "2023-07-06T15:14:05.323889Z",
     "iopub.status.idle": "2023-07-06T15:15:09.905712Z",
     "shell.execute_reply": "2023-07-06T15:15:09.904986Z",
     "shell.execute_reply.started": "2023-07-06T15:14:05.324046Z"
    }
   },
   "outputs": [],
   "source": [
    "test_topic_distr, test_topic_token_distr = topic_model.approximate_distribution(\n",
    "    test_docs,\n",
    "    calculate_tokens=True,\n",
    "    window=4,\n",
    ")"
   ]
  },
  {
   "cell_type": "code",
   "execution_count": null,
   "metadata": {
    "execution": {
     "iopub.execute_input": "2023-07-06T15:15:09.908735Z",
     "iopub.status.busy": "2023-07-06T15:15:09.908564Z",
     "iopub.status.idle": "2023-07-06T15:15:10.187107Z",
     "shell.execute_reply": "2023-07-06T15:15:10.186425Z",
     "shell.execute_reply.started": "2023-07-06T15:15:09.908719Z"
    }
   },
   "outputs": [],
   "source": [
    "df = topic_model.visualize_approximate_distribution(test_docs[134], test_topic_token_distr[134])\n",
    "df"
   ]
  },
  {
   "attachments": {},
   "cell_type": "markdown",
   "metadata": {
    "id": "GgEkerogLOQN"
   },
   "source": [
    "We will add one column to each dataset split for each topic."
   ]
  },
  {
   "cell_type": "code",
   "execution_count": null,
   "metadata": {
    "colab": {
     "base_uri": "https://localhost:8080/",
     "height": 300
    },
    "execution": {
     "iopub.execute_input": "2023-07-06T15:15:10.189999Z",
     "iopub.status.busy": "2023-07-06T15:15:10.189822Z",
     "iopub.status.idle": "2023-07-06T15:15:10.207317Z",
     "shell.execute_reply": "2023-07-06T15:15:10.206698Z",
     "shell.execute_reply.started": "2023-07-06T15:15:10.189980Z"
    },
    "id": "iRzMYIplNKq_",
    "outputId": "57393c7c-b824-4241-9ec7-1dfea7dbe761"
   },
   "outputs": [],
   "source": [
    "import pandas as pd\n",
    "\n",
    "topic_names = [id2topic[i] for i in range(topic_distr.shape[1])]\n",
    "train_topics_df = pd.DataFrame(data=topic_distr, columns=topic_names)\n",
    "train_topics_df.head()"
   ]
  },
  {
   "cell_type": "code",
   "execution_count": null,
   "metadata": {
    "execution": {
     "iopub.execute_input": "2023-07-06T15:15:10.210223Z",
     "iopub.status.busy": "2023-07-06T15:15:10.210020Z",
     "iopub.status.idle": "2023-07-06T15:15:10.223756Z",
     "shell.execute_reply": "2023-07-06T15:15:10.223206Z",
     "shell.execute_reply.started": "2023-07-06T15:15:10.210205Z"
    }
   },
   "outputs": [],
   "source": [
    "test_topics_df = pd.DataFrame(data=test_topic_distr, columns=topic_names)\n",
    "test_topics_df.head()"
   ]
  },
  {
   "cell_type": "code",
   "execution_count": null,
   "metadata": {
    "colab": {
     "base_uri": "https://localhost:8080/",
     "height": 769
    },
    "execution": {
     "iopub.execute_input": "2023-07-06T15:15:10.225962Z",
     "iopub.status.busy": "2023-07-06T15:15:10.225793Z",
     "iopub.status.idle": "2023-07-06T15:15:10.291469Z",
     "shell.execute_reply": "2023-07-06T15:15:10.290884Z",
     "shell.execute_reply.started": "2023-07-06T15:15:10.225943Z"
    },
    "id": "H1a8XF97LMXf",
    "outputId": "5cf077d7-9e50-4cca-a2f7-eb14d5df02a8"
   },
   "outputs": [],
   "source": [
    "train_df = clean_ds[\"train\"].to_pandas()\n",
    "\n",
    "train_df_full = pd.concat([train_df, train_topics_df], axis=1)\n",
    "print(train_df_full.shape)\n",
    "train_df_full.head()"
   ]
  },
  {
   "cell_type": "code",
   "execution_count": null,
   "metadata": {
    "execution": {
     "iopub.execute_input": "2023-07-06T15:15:10.293885Z",
     "iopub.status.busy": "2023-07-06T15:15:10.293717Z",
     "iopub.status.idle": "2023-07-06T15:15:10.357018Z",
     "shell.execute_reply": "2023-07-06T15:15:10.356440Z",
     "shell.execute_reply.started": "2023-07-06T15:15:10.293876Z"
    }
   },
   "outputs": [],
   "source": [
    "test_df = clean_ds[\"test\"].to_pandas()\n",
    "\n",
    "test_df_full = pd.concat([test_df, test_topics_df], axis=1)\n",
    "print(test_df_full.shape)\n",
    "test_df_full.head()"
   ]
  },
  {
   "attachments": {},
   "cell_type": "markdown",
   "metadata": {
    "id": "KilfREmvTBRU"
   },
   "source": [
    "## Covariates\n",
    "\n",
    "We'll use the same sentence embeddings computed above. As shown below, the embedding dimension is 384, which is rather high, so we will use UMAP to reduce the dimension."
   ]
  },
  {
   "cell_type": "code",
   "execution_count": null,
   "metadata": {
    "colab": {
     "base_uri": "https://localhost:8080/",
     "height": 37
    },
    "execution": {
     "iopub.execute_input": "2023-07-06T15:15:10.359373Z",
     "iopub.status.busy": "2023-07-06T15:15:10.359193Z",
     "iopub.status.idle": "2023-07-06T15:15:10.377805Z",
     "shell.execute_reply": "2023-07-06T15:15:10.377262Z",
     "shell.execute_reply.started": "2023-07-06T15:15:10.359345Z"
    },
    "id": "w2tl8PJTSq2Z",
    "outputId": "8a29de81-2f67-49c0-80ab-237ec8f6e761"
   },
   "outputs": [],
   "source": [
    "train_embeddings.shape"
   ]
  },
  {
   "cell_type": "code",
   "execution_count": null,
   "metadata": {
    "execution": {
     "iopub.execute_input": "2023-07-06T15:15:10.382783Z",
     "iopub.status.busy": "2023-07-06T15:15:10.382462Z",
     "iopub.status.idle": "2023-07-06T15:17:00.410395Z",
     "shell.execute_reply": "2023-07-06T15:17:00.409541Z",
     "shell.execute_reply.started": "2023-07-06T15:15:10.382761Z"
    },
    "id": "Gr1f-YzbZnLx"
   },
   "outputs": [],
   "source": [
    "n_covariates = 20\n",
    "\n",
    "embedding_column_names = [f\"e_{i:04d}\" for i in range(n_covariates)]\n",
    "\n",
    "umap_cov = UMAP(n_neighbors=10, n_components=n_covariates, min_dist=0.0, metric='cosine')\n",
    "train_covariates = umap_cov.fit_transform(train_embeddings)\n",
    "test_covariates = umap_cov.transform(test_embeddings)"
   ]
  },
  {
   "cell_type": "code",
   "execution_count": null,
   "metadata": {
    "colab": {
     "base_uri": "https://localhost:8080/",
     "height": 37
    },
    "execution": {
     "iopub.execute_input": "2023-07-06T15:17:00.414507Z",
     "iopub.status.busy": "2023-07-06T15:17:00.414130Z",
     "iopub.status.idle": "2023-07-06T15:17:00.418601Z",
     "shell.execute_reply": "2023-07-06T15:17:00.417880Z",
     "shell.execute_reply.started": "2023-07-06T15:17:00.414480Z"
    },
    "id": "4Bl95I4uYyYj",
    "outputId": "d5aeb363-f691-4319-a851-dccecd590f7c"
   },
   "outputs": [],
   "source": [
    "print(train_covariates.shape)\n",
    "print(test_covariates.shape)"
   ]
  },
  {
   "attachments": {},
   "cell_type": "markdown",
   "metadata": {},
   "source": [
    "Now we add the covariates to the dataframes."
   ]
  },
  {
   "cell_type": "code",
   "execution_count": null,
   "metadata": {
    "colab": {
     "base_uri": "https://localhost:8080/",
     "height": 769
    },
    "execution": {
     "iopub.execute_input": "2023-07-06T15:17:00.421115Z",
     "iopub.status.busy": "2023-07-06T15:17:00.420945Z",
     "iopub.status.idle": "2023-07-06T15:17:00.438854Z",
     "shell.execute_reply": "2023-07-06T15:17:00.438192Z",
     "shell.execute_reply.started": "2023-07-06T15:17:00.421098Z"
    },
    "id": "wCIXaGXZanhy",
    "outputId": "2fdadb8e-f608-4a69-86a8-2999406ed77d"
   },
   "outputs": [],
   "source": [
    "X_df = pd.DataFrame(data=train_covariates, columns=embedding_column_names)\n",
    "train_df_all = pd.concat([train_df_full, X_df], axis=1)\n",
    "print(train_df_all.shape)\n",
    "train_df_all.head()"
   ]
  },
  {
   "cell_type": "code",
   "execution_count": null,
   "metadata": {
    "execution": {
     "iopub.execute_input": "2023-07-06T15:17:00.441254Z",
     "iopub.status.busy": "2023-07-06T15:17:00.441088Z",
     "iopub.status.idle": "2023-07-06T15:17:00.458677Z",
     "shell.execute_reply": "2023-07-06T15:17:00.458052Z",
     "shell.execute_reply.started": "2023-07-06T15:17:00.441237Z"
    }
   },
   "outputs": [],
   "source": [
    "X_df = pd.DataFrame(data=test_covariates, columns=embedding_column_names)\n",
    "test_df_all = pd.concat([test_df_full, X_df], axis=1)\n",
    "print(test_df_all.shape)\n",
    "test_df_all.head()"
   ]
  },
  {
   "attachments": {},
   "cell_type": "markdown",
   "metadata": {
    "id": "IC3IqgKDbaEN"
   },
   "source": [
    "### Outcome columns\n",
    "\n",
    "Our outcome variable is the sentiment label. Positive sentiment is label = 1, negative sentiment is label = 0, so we need not binarize the labels."
   ]
  },
  {
   "cell_type": "code",
   "execution_count": null,
   "metadata": {
    "execution": {
     "iopub.execute_input": "2023-07-06T15:17:00.461234Z",
     "iopub.status.busy": "2023-07-06T15:17:00.461054Z",
     "iopub.status.idle": "2023-07-06T15:17:00.464141Z",
     "shell.execute_reply": "2023-07-06T15:17:00.463459Z",
     "shell.execute_reply.started": "2023-07-06T15:17:00.461210Z"
    },
    "id": "bsiLaUQAbKuR"
   },
   "outputs": [],
   "source": [
    "def get_outcome_values(df):\n",
    "    Y = df[\"label\"].to_numpy()\n",
    "    return Y"
   ]
  },
  {
   "attachments": {},
   "cell_type": "markdown",
   "metadata": {
    "id": "n7mYlvX1b2ti"
   },
   "source": [
    "### Treatment data\n",
    "\n",
    "Grab binarized treatment values"
   ]
  },
  {
   "cell_type": "code",
   "execution_count": null,
   "metadata": {
    "execution": {
     "iopub.execute_input": "2023-07-06T15:17:00.466451Z",
     "iopub.status.busy": "2023-07-06T15:17:00.466280Z",
     "iopub.status.idle": "2023-07-06T15:17:00.469625Z",
     "shell.execute_reply": "2023-07-06T15:17:00.468939Z",
     "shell.execute_reply.started": "2023-07-06T15:17:00.466440Z"
    },
    "id": "UxVi_f-jbzR_"
   },
   "outputs": [],
   "source": [
    "def get_treatment_values(df, topic_id, threshold=0.5):\n",
    "    column_name = id2topic[topic_id]\n",
    "    T = df[column_name].apply(lambda x: x >= threshold).astype(int).to_numpy()\n",
    "    return T"
   ]
  },
  {
   "attachments": {},
   "cell_type": "markdown",
   "metadata": {
    "id": "Tz-nstpldaKk"
   },
   "source": [
    "### Covariate columns\n",
    "\n",
    "Grab covariates."
   ]
  },
  {
   "cell_type": "code",
   "execution_count": null,
   "metadata": {
    "execution": {
     "iopub.execute_input": "2023-07-06T15:17:00.476999Z",
     "iopub.status.busy": "2023-07-06T15:17:00.476815Z",
     "iopub.status.idle": "2023-07-06T15:17:00.479823Z",
     "shell.execute_reply": "2023-07-06T15:17:00.479080Z",
     "shell.execute_reply.started": "2023-07-06T15:17:00.476982Z"
    },
    "id": "aEhzRejbdUe9"
   },
   "outputs": [],
   "source": [
    "def get_covariate_values(df):\n",
    "    X = df[embedding_column_names].to_numpy()\n",
    "    return X"
   ]
  },
  {
   "attachments": {},
   "cell_type": "markdown",
   "metadata": {
    "id": "iKfQOi6qbV-g"
   },
   "source": [
    "## Meta-learners"
   ]
  },
  {
   "attachments": {},
   "cell_type": "markdown",
   "metadata": {
    "id": "OBe045iadxHj"
   },
   "source": [
    "We'll pick a topic to use as treatment. All topics are listed in the cell below."
   ]
  },
  {
   "cell_type": "code",
   "execution_count": null,
   "metadata": {
    "colab": {
     "base_uri": "https://localhost:8080/"
    },
    "execution": {
     "iopub.execute_input": "2023-07-06T15:17:00.482023Z",
     "iopub.status.busy": "2023-07-06T15:17:00.481849Z",
     "iopub.status.idle": "2023-07-06T15:17:00.485591Z",
     "shell.execute_reply": "2023-07-06T15:17:00.484970Z",
     "shell.execute_reply.started": "2023-07-06T15:17:00.482006Z"
    },
    "id": "x9IrvK5feEIo",
    "outputId": "ce799a93-7a95-4c45-a2eb-3b0d4cba1316"
   },
   "outputs": [],
   "source": [
    "for i, name in id2topic.items():\n",
    "    print(i, name)"
   ]
  },
  {
   "cell_type": "code",
   "execution_count": null,
   "metadata": {
    "execution": {
     "iopub.execute_input": "2023-07-06T15:17:00.487959Z",
     "iopub.status.busy": "2023-07-06T15:17:00.487774Z",
     "iopub.status.idle": "2023-07-06T15:17:00.510101Z",
     "shell.execute_reply": "2023-07-06T15:17:00.509535Z",
     "shell.execute_reply.started": "2023-07-06T15:17:00.487927Z"
    }
   },
   "outputs": [],
   "source": [
    "n = 48\n",
    "print(f\"Topic: {id2topic[n]}\\n\")\n",
    "\n",
    "for (word, score) in topic_model.get_topic(n):\n",
    "    print(word, score)\n",
    "\n",
    "print(train_df_all[ train_df_all[id2topic[n]] >= 0.01 ].label.value_counts())\n",
    "train_df_all[ train_df_all[id2topic[n]] >= 0.01 ]"
   ]
  },
  {
   "cell_type": "code",
   "execution_count": null,
   "metadata": {
    "execution": {
     "iopub.execute_input": "2023-07-06T15:17:00.512651Z",
     "iopub.status.busy": "2023-07-06T15:17:00.512469Z",
     "iopub.status.idle": "2023-07-06T15:17:00.531339Z",
     "shell.execute_reply": "2023-07-06T15:17:00.530702Z",
     "shell.execute_reply.started": "2023-07-06T15:17:00.512633Z"
    }
   },
   "outputs": [],
   "source": [
    "n = 27\n",
    "print(f\"Topic: {id2topic[n]}\\n\")\n",
    "\n",
    "for (word, score) in topic_model.get_topic(n):\n",
    "    print(word, score)\n",
    "\n",
    "print(train_df_all[ train_df_all[id2topic[n]] >= 0.1 ].label.value_counts())\n",
    "train_df_all[ train_df_all[id2topic[n]] >= 0.1 ]"
   ]
  },
  {
   "cell_type": "code",
   "execution_count": null,
   "metadata": {
    "colab": {
     "base_uri": "https://localhost:8080/"
    },
    "execution": {
     "iopub.execute_input": "2023-07-06T15:17:00.533850Z",
     "iopub.status.busy": "2023-07-06T15:17:00.533685Z",
     "iopub.status.idle": "2023-07-06T15:17:00.546418Z",
     "shell.execute_reply": "2023-07-06T15:17:00.545749Z",
     "shell.execute_reply.started": "2023-07-06T15:17:00.533835Z"
    },
    "id": "oop7aOrddrnN",
    "outputId": "c5965145-993e-4b39-a119-c74022352eab"
   },
   "outputs": [],
   "source": [
    "# treatment\n",
    "topic_id = 27  # star wars\n",
    "\n",
    "# picking a threshold of 0.1 to consider the treatment as present\n",
    "T_train = get_treatment_values(train_df_all, topic_id, threshold=0.1)\n",
    "T_test = get_treatment_values(test_df_all, topic_id, threshold=0.1)\n",
    "print(f\"T_train: {T_train.shape}\")\n",
    "print(f\"T_test: {T_test.shape}\")\n",
    "\n",
    "Y_train = get_outcome_values(train_df_all)\n",
    "Y_test = get_outcome_values(test_df_all)\n",
    "print(f\"Y_train: {Y_train.shape}\")\n",
    "print(f\"Y_test: {Y_test.shape}\")\n",
    "\n",
    "X_train = get_covariate_values(train_df_all)\n",
    "print(f\"X_train: {X_train.shape}\")\n",
    "\n",
    "X_test = get_covariate_values(test_df_all)\n",
    "print(f\"X_test: {X_test.shape}\")"
   ]
  },
  {
   "attachments": {},
   "cell_type": "markdown",
   "metadata": {
    "id": "VEnxCeNbes6l"
   },
   "source": [
    "## Train meta-learner causal estimators"
   ]
  },
  {
   "cell_type": "code",
   "execution_count": null,
   "metadata": {
    "execution": {
     "iopub.execute_input": "2023-07-06T15:17:00.549126Z",
     "iopub.status.busy": "2023-07-06T15:17:00.548952Z",
     "iopub.status.idle": "2023-07-06T15:17:00.631899Z",
     "shell.execute_reply": "2023-07-06T15:17:00.631213Z",
     "shell.execute_reply.started": "2023-07-06T15:17:00.549103Z"
    },
    "id": "MwsrxCRNeoh4"
   },
   "outputs": [],
   "source": [
    "# Main imports\n",
    "from econml.metalearners import TLearner, SLearner, XLearner, DomainAdaptationLearner\n",
    "\n",
    "# Helper imports\n",
    "import numpy as np\n",
    "from numpy.random import binomial, multivariate_normal, normal, uniform\n",
    "from sklearn.linear_model import LinearRegression\n",
    "from sklearn.ensemble import RandomForestRegressor, RandomForestClassifier, GradientBoostingRegressor\n",
    "import matplotlib.pyplot as plt\n",
    "\n",
    "%matplotlib inline"
   ]
  },
  {
   "cell_type": "code",
   "execution_count": null,
   "metadata": {
    "execution": {
     "iopub.execute_input": "2023-07-06T15:17:00.634490Z",
     "iopub.status.busy": "2023-07-06T15:17:00.634315Z",
     "iopub.status.idle": "2023-07-06T15:17:00.637586Z",
     "shell.execute_reply": "2023-07-06T15:17:00.636859Z",
     "shell.execute_reply.started": "2023-07-06T15:17:00.634472Z"
    },
    "id": "HdXUsrgBex3r"
   },
   "outputs": [],
   "source": [
    "min_samples_leaf = len(T_train) // 100"
   ]
  },
  {
   "attachments": {},
   "cell_type": "markdown",
   "metadata": {
    "id": "mlh-ZXJie3nu"
   },
   "source": [
    "### T-learner"
   ]
  },
  {
   "cell_type": "code",
   "execution_count": null,
   "metadata": {
    "execution": {
     "iopub.execute_input": "2023-07-06T15:17:00.640974Z",
     "iopub.status.busy": "2023-07-06T15:17:00.639934Z",
     "iopub.status.idle": "2023-07-06T15:17:25.074609Z",
     "shell.execute_reply": "2023-07-06T15:17:25.073925Z",
     "shell.execute_reply.started": "2023-07-06T15:17:00.640964Z"
    },
    "id": "vRmVHQ-8e1KK"
   },
   "outputs": [],
   "source": [
    "models = GradientBoostingRegressor(n_estimators=100, max_depth=6, min_samples_leaf=min_samples_leaf)\n",
    "T_learner = TLearner(models=models)\n",
    "\n",
    "T_learner.fit(Y_train, T_train, X=X_train)\n",
    "\n",
    "# Estimate treatment effects on test data\n",
    "T_te = T_learner.effect(X_test)"
   ]
  },
  {
   "attachments": {},
   "cell_type": "markdown",
   "metadata": {
    "id": "Yi09ho6te9p7"
   },
   "source": [
    "### S-learner"
   ]
  },
  {
   "cell_type": "code",
   "execution_count": null,
   "metadata": {
    "execution": {
     "iopub.execute_input": "2023-07-06T15:17:25.119604Z",
     "iopub.status.busy": "2023-07-06T15:17:25.119446Z",
     "iopub.status.idle": "2023-07-06T15:17:49.331905Z",
     "shell.execute_reply": "2023-07-06T15:17:49.331220Z",
     "shell.execute_reply.started": "2023-07-06T15:17:25.119586Z"
    },
    "id": "40pEOfB9e5sI"
   },
   "outputs": [],
   "source": [
    "overall_model = GradientBoostingRegressor(n_estimators=100, max_depth=6, min_samples_leaf=min_samples_leaf)\n",
    "S_learner = SLearner(overall_model=overall_model)\n",
    "\n",
    "S_learner.fit(Y_train, T_train, X=X_train)\n",
    "\n",
    "# Estimate treatment effects on test data\n",
    "S_te = S_learner.effect(X_test)"
   ]
  },
  {
   "attachments": {},
   "cell_type": "markdown",
   "metadata": {
    "id": "VQEaButlfAE3"
   },
   "source": [
    "### X-learner"
   ]
  },
  {
   "cell_type": "code",
   "execution_count": null,
   "metadata": {
    "execution": {
     "iopub.execute_input": "2023-07-06T15:17:49.377514Z",
     "iopub.status.busy": "2023-07-06T15:17:49.377340Z",
     "iopub.status.idle": "2023-07-06T15:18:42.035322Z",
     "shell.execute_reply": "2023-07-06T15:18:42.034390Z",
     "shell.execute_reply.started": "2023-07-06T15:17:49.377494Z"
    },
    "id": "v8gJCbZue9Eh"
   },
   "outputs": [],
   "source": [
    "# Instantiate X learner\n",
    "models = GradientBoostingRegressor(n_estimators=100, max_depth=6, min_samples_leaf=min_samples_leaf)\n",
    "propensity_model = RandomForestClassifier(\n",
    "    n_estimators=100,\n",
    "    max_depth=6,\n",
    "    min_samples_leaf=min_samples_leaf\n",
    ")\n",
    "\n",
    "X_learner = XLearner(models=models, propensity_model=propensity_model)\n",
    "X_learner.fit(Y_train, T_train, X=X_train)\n",
    "\n",
    "# Estimate treatment effects on test data\n",
    "X_te = X_learner.effect(X_test)"
   ]
  },
  {
   "attachments": {},
   "cell_type": "markdown",
   "metadata": {
    "id": "TtI7HblyfIbw"
   },
   "source": [
    "## Comparing treatment effects from different meta-learners"
   ]
  },
  {
   "cell_type": "code",
   "execution_count": null,
   "metadata": {
    "colab": {
     "base_uri": "https://localhost:8080/",
     "height": 487
    },
    "execution": {
     "iopub.execute_input": "2023-07-06T16:20:36.617102Z",
     "iopub.status.busy": "2023-07-06T16:20:36.616460Z",
     "iopub.status.idle": "2023-07-06T16:20:38.407021Z",
     "shell.execute_reply": "2023-07-06T16:20:38.406300Z",
     "shell.execute_reply.started": "2023-07-06T16:20:36.617076Z"
    },
    "id": "PWx8DvcofFPK",
    "outputId": "b7ef6e50-fb4d-4688-df4f-c32b02ca3fe4"
   },
   "outputs": [],
   "source": [
    "plt.figure(figsize=(7, 5))\n",
    "x_axis = list(range(len(X_test)))\n",
    "\n",
    "plt.scatter(x_axis, T_te, label=\"T-learner\", alpha=0.5)\n",
    "plt.scatter(x_axis, S_te, label=\"S-learner\", alpha=0.5)\n",
    "plt.scatter(x_axis, X_te, label=\"X-learner\", alpha=0.5)\n",
    "\n",
    "plt.xlabel('Movie Review id')\n",
    "plt.ylabel('Treatment Effect')\n",
    "plt.title(f\"Treatment Topic: {id2topic[topic_id]}\")\n",
    "plt.legend()\n",
    "plt.show()"
   ]
  },
  {
   "attachments": {},
   "cell_type": "markdown",
   "metadata": {},
   "source": [
    "Let's look at the distribution CATE values for any topic and for each of the meta-learners used above.\n",
    "\n",
    "We'll plot the distribution of CATE values for several topics and topic score thresholds."
   ]
  },
  {
   "cell_type": "code",
   "execution_count": null,
   "metadata": {
    "execution": {
     "iopub.execute_input": "2023-07-06T16:38:16.918942Z",
     "iopub.status.busy": "2023-07-06T16:38:16.918217Z",
     "iopub.status.idle": "2023-07-06T16:38:16.926270Z",
     "shell.execute_reply": "2023-07-06T16:38:16.925626Z",
     "shell.execute_reply.started": "2023-07-06T16:38:16.918917Z"
    }
   },
   "outputs": [],
   "source": [
    "def run_analysis(topic_id, topic_threshold=0.1):\n",
    "    # topic_id is treatment\n",
    "    # picking a threshold of 0.1 to consider the treatment as present\n",
    "    T_train = get_treatment_values(train_df_all, topic_id, threshold=topic_threshold)\n",
    "    T_test = get_treatment_values(test_df_all, topic_id, threshold=topic_threshold)\n",
    "\n",
    "    treated_indices = np.where(T_test == 1)[0]\n",
    "    untreated_indices = np.where(T_test == 0)[0]\n",
    "    \n",
    "    Y_train = get_outcome_values(train_df_all)\n",
    "    Y_test = get_outcome_values(test_df_all)\n",
    "    \n",
    "    X_train = get_covariate_values(train_df_all)\n",
    "    X_test = get_covariate_values(test_df_all)\n",
    "    \n",
    "    print(\"Building T-Learner...\")\n",
    "    models = GradientBoostingRegressor(n_estimators=100, max_depth=6, min_samples_leaf=min_samples_leaf)\n",
    "    T_learner = TLearner(models=models)\n",
    "\n",
    "    T_learner.fit(Y_train, T_train, X=X_train)\n",
    "    T_te = T_learner.effect(X_test)\n",
    "    \n",
    "    print(\"Building S-Learner...\")\n",
    "    overall_model = GradientBoostingRegressor(n_estimators=100, max_depth=6, min_samples_leaf=min_samples_leaf)\n",
    "    S_learner = SLearner(overall_model=overall_model)\n",
    "\n",
    "    S_learner.fit(Y_train, T_train, X=X_train)\n",
    "    S_te = S_learner.effect(X_test)\n",
    "    \n",
    "    print(\"Building X-Learner...\")\n",
    "    models = GradientBoostingRegressor(n_estimators=100, max_depth=6, min_samples_leaf=min_samples_leaf)\n",
    "    propensity_model = RandomForestClassifier(\n",
    "        n_estimators=100,\n",
    "        max_depth=6,\n",
    "        min_samples_leaf=min_samples_leaf\n",
    "    )\n",
    "\n",
    "    X_learner = XLearner(models=models, propensity_model=propensity_model)\n",
    "    X_learner.fit(Y_train, T_train, X=X_train)\n",
    "    X_te = X_learner.effect(X_test)\n",
    "    \n",
    "    plt.figure(figsize=(7, 5))\n",
    "    x_axis = np.arange(len(X_test))\n",
    "    \n",
    "    plt.hist(T_te, label=\"T-learner\", bins=10, alpha=0.5)\n",
    "    plt.hist(S_te, label=\"S-learner\", bins=10, alpha=0.5)\n",
    "    plt.hist(X_te, label=\"X-learner\", bins=10, alpha=0.5)\n",
    "    \n",
    "    plt.xlabel('Treatment Effect')\n",
    "    plt.ylabel('Frequency')\n",
    "    plt.title(f\"Treatment Topic: {id2topic[topic_id]}\")\n",
    "\n",
    "    \n",
    "    # plt.scatter(x_axis, T_te, label=\"T-learner\")\n",
    "    # plt.scatter(x_axis, S_te, label=\"S-learner\")\n",
    "    # plt.scatter(x_axis, X_te, label=\"X-learner\")\n",
    "    \n",
    "    # plt.xlabel('Movie Review id')\n",
    "    # plt.ylabel('Treatment Effect')\n",
    "    # plt.title(f\"Treatment Topic: {id2topic[topic_id]}\")\n",
    "    plt.legend()\n",
    "    plt.show()"
   ]
  },
  {
   "cell_type": "code",
   "execution_count": null,
   "metadata": {
    "execution": {
     "iopub.execute_input": "2023-07-06T15:27:02.120031Z",
     "iopub.status.busy": "2023-07-06T15:27:02.119715Z",
     "iopub.status.idle": "2023-07-06T15:28:41.808434Z",
     "shell.execute_reply": "2023-07-06T15:28:41.807773Z",
     "shell.execute_reply.started": "2023-07-06T15:27:02.120010Z"
    },
    "id": "YSE6ntHUbwpT"
   },
   "outputs": [],
   "source": [
    "run_analysis(1, topic_threshold=0.1)"
   ]
  },
  {
   "cell_type": "code",
   "execution_count": null,
   "metadata": {
    "execution": {
     "iopub.execute_input": "2023-07-06T16:28:14.552486Z",
     "iopub.status.busy": "2023-07-06T16:28:14.551910Z",
     "iopub.status.idle": "2023-07-06T16:29:55.893650Z",
     "shell.execute_reply": "2023-07-06T16:29:55.893076Z",
     "shell.execute_reply.started": "2023-07-06T16:28:14.552462Z"
    }
   },
   "outputs": [],
   "source": [
    "run_analysis(27, topic_threshold=0.1)"
   ]
  },
  {
   "cell_type": "code",
   "execution_count": null,
   "metadata": {
    "execution": {
     "iopub.execute_input": "2023-07-06T16:38:30.145216Z",
     "iopub.status.busy": "2023-07-06T16:38:30.144496Z",
     "iopub.status.idle": "2023-07-06T16:40:11.832401Z",
     "shell.execute_reply": "2023-07-06T16:40:11.831684Z",
     "shell.execute_reply.started": "2023-07-06T16:38:30.145187Z"
    }
   },
   "outputs": [],
   "source": [
    "run_analysis(15, topic_threshold=0.1)"
   ]
  },
  {
   "cell_type": "code",
   "execution_count": null,
   "metadata": {
    "execution": {
     "iopub.execute_input": "2023-07-06T16:30:11.372419Z",
     "iopub.status.busy": "2023-07-06T16:30:11.371667Z",
     "iopub.status.idle": "2023-07-06T16:31:57.751377Z",
     "shell.execute_reply": "2023-07-06T16:31:57.750681Z",
     "shell.execute_reply.started": "2023-07-06T16:30:11.372393Z"
    }
   },
   "outputs": [],
   "source": [
    "run_analysis(9, topic_threshold=0.1)"
   ]
  },
  {
   "cell_type": "code",
   "execution_count": null,
   "metadata": {
    "execution": {
     "iopub.execute_input": "2023-07-06T16:31:57.752793Z",
     "iopub.status.busy": "2023-07-06T16:31:57.752575Z",
     "iopub.status.idle": "2023-07-06T16:33:41.547336Z",
     "shell.execute_reply": "2023-07-06T16:33:41.546647Z",
     "shell.execute_reply.started": "2023-07-06T16:31:57.752773Z"
    }
   },
   "outputs": [],
   "source": [
    "run_analysis(23, topic_threshold=0.1)"
   ]
  },
  {
   "attachments": {},
   "cell_type": "markdown",
   "metadata": {},
   "source": [
    "# Analysis\n",
    "\n",
    "So, what does the distribution of CATE scores tell us?\n",
    "\n",
    "Generally speaking, when the outcome variable is binary-valued (as it is for our movie review data), a negative CATE value means that the treatment has a negative/detrimental effect on the outcome variable. For the IMDB data, that means that when the topic is present in the movie review, said review is more likely to be negative than similar reviews without the topic. Similarly, a positive CATE value suggests that the topic tends to make the review more positive.\n",
    "\n",
    "## S-Learner CATE scores\n",
    "\n",
    "A few of the plots have a large peak for the S-Learner that is near zero. The S-Learner scores are then suggesting that each topic has a negligible effect of the sentiment of movie reviews. \n",
    "\n",
    "However, the S-Learner assumes that the treatment effect is homogeneous across the population. If that assumption is not correct (and we have no reason to think it should be), then treatment effect is not homogeneous across the population, then the CATE scores calculated using an S-Learner may not accurately reflect the true treatment effect. \n",
    "\n",
    "## T-Learner and X-Learner CATE scores\n",
    "\n",
    "The histograms for the T-Learner and X-Learner suggest that the effect a given topic has on the movie review sentiment is sometimes positive and sometimes negative. The first plot above shows that we can actually see which specific movie reviews have positive and negative scores.\n",
    "\n",
    "We can also note that the some topics appear to have a large effect on sentiment, for example, topic 23, the Dan Brown topic, as shown in the plot immediately above.\n",
    "\n"
   ]
  },
  {
   "cell_type": "code",
   "execution_count": null,
   "metadata": {},
   "outputs": [],
   "source": []
  }
 ],
 "metadata": {
  "accelerator": "GPU",
  "colab": {
   "provenance": [],
   "toc_visible": true
  },
  "gpuClass": "standard",
  "kernelspec": {
   "display_name": "Python 3 (ipykernel)",
   "language": "python",
   "name": "python3"
  },
  "language_info": {
   "codemirror_mode": {
    "name": "ipython",
    "version": 3
   },
   "file_extension": ".py",
   "mimetype": "text/x-python",
   "name": "python",
   "nbconvert_exporter": "python",
   "pygments_lexer": "ipython3",
   "version": "3.9.16"
  },
  "widgets": {
   "application/vnd.jupyter.widget-state+json": {
    "057e7a95a3534f47ad71a20b6d362471": {
     "model_module": "@jupyter-widgets/base",
     "model_module_version": "1.2.0",
     "model_name": "LayoutModel",
     "state": {
      "_model_module": "@jupyter-widgets/base",
      "_model_module_version": "1.2.0",
      "_model_name": "LayoutModel",
      "_view_count": null,
      "_view_module": "@jupyter-widgets/base",
      "_view_module_version": "1.2.0",
      "_view_name": "LayoutView",
      "align_content": null,
      "align_items": null,
      "align_self": null,
      "border": null,
      "bottom": null,
      "display": null,
      "flex": null,
      "flex_flow": null,
      "grid_area": null,
      "grid_auto_columns": null,
      "grid_auto_flow": null,
      "grid_auto_rows": null,
      "grid_column": null,
      "grid_gap": null,
      "grid_row": null,
      "grid_template_areas": null,
      "grid_template_columns": null,
      "grid_template_rows": null,
      "height": null,
      "justify_content": null,
      "justify_items": null,
      "left": null,
      "margin": null,
      "max_height": null,
      "max_width": null,
      "min_height": null,
      "min_width": null,
      "object_fit": null,
      "object_position": null,
      "order": null,
      "overflow": null,
      "overflow_x": null,
      "overflow_y": null,
      "padding": null,
      "right": null,
      "top": null,
      "visibility": null,
      "width": null
     }
    },
    "158eed3040f245c0b3c84174104e1a8c": {
     "model_module": "@jupyter-widgets/controls",
     "model_module_version": "1.5.0",
     "model_name": "HBoxModel",
     "state": {
      "_dom_classes": [],
      "_model_module": "@jupyter-widgets/controls",
      "_model_module_version": "1.5.0",
      "_model_name": "HBoxModel",
      "_view_count": null,
      "_view_module": "@jupyter-widgets/controls",
      "_view_module_version": "1.5.0",
      "_view_name": "HBoxView",
      "box_style": "",
      "children": [
       "IPY_MODEL_b0067f1f148c4b5ca1b359ed1f853ff2",
       "IPY_MODEL_c1b9a51823d94e27aae6f0825639c12d",
       "IPY_MODEL_91d69f8355bb47f7a2b39a04dd3d4c24"
      ],
      "layout": "IPY_MODEL_bf059204c24c4f11871a3803d6e7897b"
     }
    },
    "204b81ff48a340c28c9c11ad5f59d519": {
     "model_module": "@jupyter-widgets/base",
     "model_module_version": "1.2.0",
     "model_name": "LayoutModel",
     "state": {
      "_model_module": "@jupyter-widgets/base",
      "_model_module_version": "1.2.0",
      "_model_name": "LayoutModel",
      "_view_count": null,
      "_view_module": "@jupyter-widgets/base",
      "_view_module_version": "1.2.0",
      "_view_name": "LayoutView",
      "align_content": null,
      "align_items": null,
      "align_self": null,
      "border": null,
      "bottom": null,
      "display": null,
      "flex": null,
      "flex_flow": null,
      "grid_area": null,
      "grid_auto_columns": null,
      "grid_auto_flow": null,
      "grid_auto_rows": null,
      "grid_column": null,
      "grid_gap": null,
      "grid_row": null,
      "grid_template_areas": null,
      "grid_template_columns": null,
      "grid_template_rows": null,
      "height": null,
      "justify_content": null,
      "justify_items": null,
      "left": null,
      "margin": null,
      "max_height": null,
      "max_width": null,
      "min_height": null,
      "min_width": null,
      "object_fit": null,
      "object_position": null,
      "order": null,
      "overflow": null,
      "overflow_x": null,
      "overflow_y": null,
      "padding": null,
      "right": null,
      "top": null,
      "visibility": null,
      "width": null
     }
    },
    "565708869269497c920ee87531c6ef56": {
     "model_module": "@jupyter-widgets/base",
     "model_module_version": "1.2.0",
     "model_name": "LayoutModel",
     "state": {
      "_model_module": "@jupyter-widgets/base",
      "_model_module_version": "1.2.0",
      "_model_name": "LayoutModel",
      "_view_count": null,
      "_view_module": "@jupyter-widgets/base",
      "_view_module_version": "1.2.0",
      "_view_name": "LayoutView",
      "align_content": null,
      "align_items": null,
      "align_self": null,
      "border": null,
      "bottom": null,
      "display": null,
      "flex": null,
      "flex_flow": null,
      "grid_area": null,
      "grid_auto_columns": null,
      "grid_auto_flow": null,
      "grid_auto_rows": null,
      "grid_column": null,
      "grid_gap": null,
      "grid_row": null,
      "grid_template_areas": null,
      "grid_template_columns": null,
      "grid_template_rows": null,
      "height": null,
      "justify_content": null,
      "justify_items": null,
      "left": null,
      "margin": null,
      "max_height": null,
      "max_width": null,
      "min_height": null,
      "min_width": null,
      "object_fit": null,
      "object_position": null,
      "order": null,
      "overflow": null,
      "overflow_x": null,
      "overflow_y": null,
      "padding": null,
      "right": null,
      "top": null,
      "visibility": null,
      "width": null
     }
    },
    "80fbcff820684b67ae993571fa727c2b": {
     "model_module": "@jupyter-widgets/controls",
     "model_module_version": "1.5.0",
     "model_name": "ProgressStyleModel",
     "state": {
      "_model_module": "@jupyter-widgets/controls",
      "_model_module_version": "1.5.0",
      "_model_name": "ProgressStyleModel",
      "_view_count": null,
      "_view_module": "@jupyter-widgets/base",
      "_view_module_version": "1.2.0",
      "_view_name": "StyleView",
      "bar_color": null,
      "description_width": ""
     }
    },
    "90580a55aa4d472f8a7e3ea918ca8b1f": {
     "model_module": "@jupyter-widgets/controls",
     "model_module_version": "1.5.0",
     "model_name": "DescriptionStyleModel",
     "state": {
      "_model_module": "@jupyter-widgets/controls",
      "_model_module_version": "1.5.0",
      "_model_name": "DescriptionStyleModel",
      "_view_count": null,
      "_view_module": "@jupyter-widgets/base",
      "_view_module_version": "1.2.0",
      "_view_name": "StyleView",
      "description_width": ""
     }
    },
    "91d69f8355bb47f7a2b39a04dd3d4c24": {
     "model_module": "@jupyter-widgets/controls",
     "model_module_version": "1.5.0",
     "model_name": "HTMLModel",
     "state": {
      "_dom_classes": [],
      "_model_module": "@jupyter-widgets/controls",
      "_model_module_version": "1.5.0",
      "_model_name": "HTMLModel",
      "_view_count": null,
      "_view_module": "@jupyter-widgets/controls",
      "_view_module_version": "1.5.0",
      "_view_name": "HTMLView",
      "description": "",
      "description_tooltip": null,
      "layout": "IPY_MODEL_057e7a95a3534f47ad71a20b6d362471",
      "placeholder": "​",
      "style": "IPY_MODEL_c15dde6183664c569ad77788f8f4d821",
      "value": " 150/150 [00:04&lt;00:00, 66.89it/s]"
     }
    },
    "b0067f1f148c4b5ca1b359ed1f853ff2": {
     "model_module": "@jupyter-widgets/controls",
     "model_module_version": "1.5.0",
     "model_name": "HTMLModel",
     "state": {
      "_dom_classes": [],
      "_model_module": "@jupyter-widgets/controls",
      "_model_module_version": "1.5.0",
      "_model_name": "HTMLModel",
      "_view_count": null,
      "_view_module": "@jupyter-widgets/controls",
      "_view_module_version": "1.5.0",
      "_view_name": "HTMLView",
      "description": "",
      "description_tooltip": null,
      "layout": "IPY_MODEL_565708869269497c920ee87531c6ef56",
      "placeholder": "​",
      "style": "IPY_MODEL_90580a55aa4d472f8a7e3ea918ca8b1f",
      "value": "Batches: 100%"
     }
    },
    "bf059204c24c4f11871a3803d6e7897b": {
     "model_module": "@jupyter-widgets/base",
     "model_module_version": "1.2.0",
     "model_name": "LayoutModel",
     "state": {
      "_model_module": "@jupyter-widgets/base",
      "_model_module_version": "1.2.0",
      "_model_name": "LayoutModel",
      "_view_count": null,
      "_view_module": "@jupyter-widgets/base",
      "_view_module_version": "1.2.0",
      "_view_name": "LayoutView",
      "align_content": null,
      "align_items": null,
      "align_self": null,
      "border": null,
      "bottom": null,
      "display": null,
      "flex": null,
      "flex_flow": null,
      "grid_area": null,
      "grid_auto_columns": null,
      "grid_auto_flow": null,
      "grid_auto_rows": null,
      "grid_column": null,
      "grid_gap": null,
      "grid_row": null,
      "grid_template_areas": null,
      "grid_template_columns": null,
      "grid_template_rows": null,
      "height": null,
      "justify_content": null,
      "justify_items": null,
      "left": null,
      "margin": null,
      "max_height": null,
      "max_width": null,
      "min_height": null,
      "min_width": null,
      "object_fit": null,
      "object_position": null,
      "order": null,
      "overflow": null,
      "overflow_x": null,
      "overflow_y": null,
      "padding": null,
      "right": null,
      "top": null,
      "visibility": null,
      "width": null
     }
    },
    "c15dde6183664c569ad77788f8f4d821": {
     "model_module": "@jupyter-widgets/controls",
     "model_module_version": "1.5.0",
     "model_name": "DescriptionStyleModel",
     "state": {
      "_model_module": "@jupyter-widgets/controls",
      "_model_module_version": "1.5.0",
      "_model_name": "DescriptionStyleModel",
      "_view_count": null,
      "_view_module": "@jupyter-widgets/base",
      "_view_module_version": "1.2.0",
      "_view_name": "StyleView",
      "description_width": ""
     }
    },
    "c1b9a51823d94e27aae6f0825639c12d": {
     "model_module": "@jupyter-widgets/controls",
     "model_module_version": "1.5.0",
     "model_name": "FloatProgressModel",
     "state": {
      "_dom_classes": [],
      "_model_module": "@jupyter-widgets/controls",
      "_model_module_version": "1.5.0",
      "_model_name": "FloatProgressModel",
      "_view_count": null,
      "_view_module": "@jupyter-widgets/controls",
      "_view_module_version": "1.5.0",
      "_view_name": "ProgressView",
      "bar_style": "success",
      "description": "",
      "description_tooltip": null,
      "layout": "IPY_MODEL_204b81ff48a340c28c9c11ad5f59d519",
      "max": 150,
      "min": 0,
      "orientation": "horizontal",
      "style": "IPY_MODEL_80fbcff820684b67ae993571fa727c2b",
      "value": 150
     }
    }
   }
  }
 },
 "nbformat": 4,
 "nbformat_minor": 4
}
